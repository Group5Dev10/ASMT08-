{
 "cells": [
  {
   "cell_type": "code",
   "execution_count": 49,
   "metadata": {},
   "outputs": [],
   "source": [
    "import requests\n",
    "import pandas as pd\n",
    "import json\n",
    "import numpy as np\n",
    "import matplotlib.pyplot as plt\n",
    "from matplotlib.pyplot import figure\n",
    "import seaborn as sns\n",
    "import plotly.express as px\n",
    "import plotly.graph_objects as go\n",
    "\n",
    "\n",
    "pd.set_option('display.max_columns', None)\n",
    "\n",
    "\n",
    "def CleanData(response):\n",
    "    data = json.loads(response.text)\n",
    "    df = pd.DataFrame.from_dict(data)\n",
    "\n",
    "    #Remove first row from df \n",
    "    newcolumn = df.iloc[0]\n",
    "    df = df.iloc[1:]\n",
    "\n",
    "    #Rename columns\n",
    "    df.rename(columns=newcolumn, inplace = True)\n",
    "\n",
    "    #Reset index \n",
    "    df.reset_index(inplace = True, drop = True)\n",
    "\n",
    "    return df\n",
    "\n",
    "\n",
    "## base url for characteristics of businesses \n",
    "base = 'https://api.census.gov/data/2018/abscb?'"
   ]
  },
  {
   "attachments": {},
   "cell_type": "markdown",
   "metadata": {},
   "source": [
    "# Exploring Family Ownership"
   ]
  },
  {
   "attachments": {},
   "cell_type": "markdown",
   "metadata": {},
   "source": [
    "#### ------------------- family ownership and years in business --------------------------------"
   ]
  },
  {
   "cell_type": "code",
   "execution_count": 384,
   "metadata": {},
   "outputs": [
    {
     "data": {
      "text/html": [
       "<div>\n",
       "<style scoped>\n",
       "    .dataframe tbody tr th:only-of-type {\n",
       "        vertical-align: middle;\n",
       "    }\n",
       "\n",
       "    .dataframe tbody tr th {\n",
       "        vertical-align: top;\n",
       "    }\n",
       "\n",
       "    .dataframe thead th {\n",
       "        text-align: right;\n",
       "    }\n",
       "</style>\n",
       "<table border=\"1\" class=\"dataframe\">\n",
       "  <thead>\n",
       "    <tr style=\"text-align: right;\">\n",
       "      <th></th>\n",
       "      <th>YIBSZFI</th>\n",
       "      <th>BUSCHAR</th>\n",
       "      <th>BUSCHAR_LABEL</th>\n",
       "      <th>FIRMPDEMP</th>\n",
       "      <th>FIRMPDEMP_PCT</th>\n",
       "      <th>RCPPDEMP</th>\n",
       "      <th>EMP</th>\n",
       "      <th>EMP_PCT</th>\n",
       "      <th>PAYANN</th>\n",
       "      <th>PAYANN_PCT</th>\n",
       "    </tr>\n",
       "  </thead>\n",
       "  <tbody>\n",
       "    <tr>\n",
       "      <th>0</th>\n",
       "      <td>less than 2</td>\n",
       "      <td>BM</td>\n",
       "      <td>Family-owned</td>\n",
       "      <td>58403</td>\n",
       "      <td>24.7</td>\n",
       "      <td>37730276</td>\n",
       "      <td>297945</td>\n",
       "      <td>27.7</td>\n",
       "      <td>8629168</td>\n",
       "      <td>24.5</td>\n",
       "    </tr>\n",
       "    <tr>\n",
       "      <th>1</th>\n",
       "      <td>less than 2</td>\n",
       "      <td>BN</td>\n",
       "      <td>Not family-owned</td>\n",
       "      <td>177725</td>\n",
       "      <td>75.3</td>\n",
       "      <td>118497006</td>\n",
       "      <td>775859</td>\n",
       "      <td>72.3</td>\n",
       "      <td>26568681</td>\n",
       "      <td>75.5</td>\n",
       "    </tr>\n",
       "    <tr>\n",
       "      <th>2</th>\n",
       "      <td>2 to 3</td>\n",
       "      <td>BM</td>\n",
       "      <td>Family-owned</td>\n",
       "      <td>84089</td>\n",
       "      <td>25.7</td>\n",
       "      <td>78706219</td>\n",
       "      <td>545655</td>\n",
       "      <td>27.0</td>\n",
       "      <td>16604437</td>\n",
       "      <td>26.2</td>\n",
       "    </tr>\n",
       "    <tr>\n",
       "      <th>3</th>\n",
       "      <td>2 to 3</td>\n",
       "      <td>BN</td>\n",
       "      <td>Not family-owned</td>\n",
       "      <td>242514</td>\n",
       "      <td>74.3</td>\n",
       "      <td>200841567</td>\n",
       "      <td>1473911</td>\n",
       "      <td>73.0</td>\n",
       "      <td>46678795</td>\n",
       "      <td>73.8</td>\n",
       "    </tr>\n",
       "    <tr>\n",
       "      <th>4</th>\n",
       "      <td>4 to 5</td>\n",
       "      <td>BM</td>\n",
       "      <td>Family-owned</td>\n",
       "      <td>66709</td>\n",
       "      <td>26.3</td>\n",
       "      <td>75707166</td>\n",
       "      <td>483986</td>\n",
       "      <td>29.7</td>\n",
       "      <td>15366568</td>\n",
       "      <td>25.4</td>\n",
       "    </tr>\n",
       "    <tr>\n",
       "      <th>5</th>\n",
       "      <td>4 to 5</td>\n",
       "      <td>BN</td>\n",
       "      <td>Not family-owned</td>\n",
       "      <td>186678</td>\n",
       "      <td>73.7</td>\n",
       "      <td>186535797</td>\n",
       "      <td>1147235</td>\n",
       "      <td>70.3</td>\n",
       "      <td>45221266</td>\n",
       "      <td>74.6</td>\n",
       "    </tr>\n",
       "    <tr>\n",
       "      <th>6</th>\n",
       "      <td>6 to 10</td>\n",
       "      <td>BM</td>\n",
       "      <td>Family-owned</td>\n",
       "      <td>129108</td>\n",
       "      <td>27.8</td>\n",
       "      <td>162762860</td>\n",
       "      <td>1159157</td>\n",
       "      <td>33.6</td>\n",
       "      <td>38819092</td>\n",
       "      <td>26.9</td>\n",
       "    </tr>\n",
       "    <tr>\n",
       "      <th>7</th>\n",
       "      <td>6 to 10</td>\n",
       "      <td>BN</td>\n",
       "      <td>Not family-owned</td>\n",
       "      <td>334935</td>\n",
       "      <td>72.2</td>\n",
       "      <td>418575581</td>\n",
       "      <td>2293629</td>\n",
       "      <td>66.4</td>\n",
       "      <td>105455713</td>\n",
       "      <td>73.1</td>\n",
       "    </tr>\n",
       "    <tr>\n",
       "      <th>8</th>\n",
       "      <td>11 to 15</td>\n",
       "      <td>BM</td>\n",
       "      <td>Family-owned</td>\n",
       "      <td>133329</td>\n",
       "      <td>31.3</td>\n",
       "      <td>184964523</td>\n",
       "      <td>1127914</td>\n",
       "      <td>35.1</td>\n",
       "      <td>41192854</td>\n",
       "      <td>31.2</td>\n",
       "    </tr>\n",
       "    <tr>\n",
       "      <th>9</th>\n",
       "      <td>11 to 15</td>\n",
       "      <td>BN</td>\n",
       "      <td>Not family-owned</td>\n",
       "      <td>292920</td>\n",
       "      <td>68.7</td>\n",
       "      <td>391573905</td>\n",
       "      <td>2081775</td>\n",
       "      <td>64.9</td>\n",
       "      <td>91044903</td>\n",
       "      <td>68.8</td>\n",
       "    </tr>\n",
       "    <tr>\n",
       "      <th>10</th>\n",
       "      <td>16 +</td>\n",
       "      <td>BM</td>\n",
       "      <td>Family-owned</td>\n",
       "      <td>316138</td>\n",
       "      <td>32.4</td>\n",
       "      <td>1204106413</td>\n",
       "      <td>4433930</td>\n",
       "      <td>40.1</td>\n",
       "      <td>189472295</td>\n",
       "      <td>36.6</td>\n",
       "    </tr>\n",
       "    <tr>\n",
       "      <th>11</th>\n",
       "      <td>16 +</td>\n",
       "      <td>BN</td>\n",
       "      <td>Not family-owned</td>\n",
       "      <td>659088</td>\n",
       "      <td>67.6</td>\n",
       "      <td>1592903150</td>\n",
       "      <td>6624671</td>\n",
       "      <td>59.9</td>\n",
       "      <td>328141864</td>\n",
       "      <td>63.4</td>\n",
       "    </tr>\n",
       "  </tbody>\n",
       "</table>\n",
       "</div>"
      ],
      "text/plain": [
       "        YIBSZFI BUSCHAR     BUSCHAR_LABEL  FIRMPDEMP  FIRMPDEMP_PCT  \\\n",
       "0   less than 2      BM      Family-owned      58403           24.7   \n",
       "1   less than 2      BN  Not family-owned     177725           75.3   \n",
       "2        2 to 3      BM      Family-owned      84089           25.7   \n",
       "3        2 to 3      BN  Not family-owned     242514           74.3   \n",
       "4        4 to 5      BM      Family-owned      66709           26.3   \n",
       "5        4 to 5      BN  Not family-owned     186678           73.7   \n",
       "6       6 to 10      BM      Family-owned     129108           27.8   \n",
       "7       6 to 10      BN  Not family-owned     334935           72.2   \n",
       "8      11 to 15      BM      Family-owned     133329           31.3   \n",
       "9      11 to 15      BN  Not family-owned     292920           68.7   \n",
       "10         16 +      BM      Family-owned     316138           32.4   \n",
       "11         16 +      BN  Not family-owned     659088           67.6   \n",
       "\n",
       "      RCPPDEMP      EMP  EMP_PCT     PAYANN  PAYANN_PCT  \n",
       "0     37730276   297945     27.7    8629168        24.5  \n",
       "1    118497006   775859     72.3   26568681        75.5  \n",
       "2     78706219   545655     27.0   16604437        26.2  \n",
       "3    200841567  1473911     73.0   46678795        73.8  \n",
       "4     75707166   483986     29.7   15366568        25.4  \n",
       "5    186535797  1147235     70.3   45221266        74.6  \n",
       "6    162762860  1159157     33.6   38819092        26.9  \n",
       "7    418575581  2293629     66.4  105455713        73.1  \n",
       "8    184964523  1127914     35.1   41192854        31.2  \n",
       "9    391573905  2081775     64.9   91044903        68.8  \n",
       "10  1204106413  4433930     40.1  189472295        36.6  \n",
       "11  1592903150  6624671     59.9  328141864        63.4  "
      ]
     },
     "execution_count": 384,
     "metadata": {},
     "output_type": "execute_result"
    }
   ],
   "source": [
    "## a general look \n",
    "\n",
    "params_yb_famown = {\n",
    "    'get' : 'GEO_ID,NAME,NAICS2017,NAICS2017_LABEL,YIBSZFI,SEX,SEX_LABEL,ETH_GROUP,ETH_GROUP_LABEL,RACE_GROUP,RACE_GROUP_LABEL,VET_GROUP,VET_GROUP_LABEL,QDESC,QDESC_LABEL,BUSCHAR,BUSCHAR_LABEL,YEAR,FIRMPDEMP,FIRMPDEMP_F,FIRMPDEMP_PCT,FIRMPDEMP_PCT_F,RCPPDEMP,RCPPDEMP_F,RCPPDEMP_PCT,RCPPDEMP_PCT_F,EMP,EMP_F,EMP_PCT,EMP_PCT_F,PAYANN,PAYANN_F,PAYANN_PCT,PAYANN_PCT_F,FIRMPDEMP_S,FIRMPDEMP_S_F,FIRMPDEMP_PCT_S,FIRMPDEMP_PCT_S_F,RCPPDEMP_S,RCPPDEMP_S_F,RCPPDEMP_PCT_S,RCPPDEMP_PCT_S_F,EMP_S,EMP_S_F,EMP_PCT_S,EMP_PCT_S_F,PAYANN_S,PAYANN_S_F,PAYANN_PCT_S,PAYANN_PCT_S_F',\n",
    "    'for' : 'us',\n",
    "    'QDESC_LABEL' : 'FAMOWN',\n",
    "    'key' : '10bf25bcce0f90f77afc9446298738e209ce9d58' \n",
    "}\n",
    "response_yb_famown = requests.get(base, params = params_yb_famown)\n",
    "\n",
    "yb_famown = CleanData(response_yb_famown)\n",
    "\n",
    "\n",
    "## Create df that focuses on total for all sectors (NAICS2017 = 00), and disregards veteran, ethnicity, race, and sex group. \n",
    "yb = yb_famown[(yb_famown.VET_GROUP == '001') & (yb_famown.SEX == '001') & (yb_famown.ETH_GROUP == '001') & (yb_famown.NAICS2017 == '00') & (yb_famown.RACE_GROUP == '00')]\n",
    "\n",
    "\n",
    "## Selecting columns and rows\n",
    "yb = yb[['YIBSZFI', 'BUSCHAR', 'BUSCHAR_LABEL', 'FIRMPDEMP', 'FIRMPDEMP_PCT', 'RCPPDEMP', 'EMP', 'EMP_PCT', 'PAYANN', 'PAYANN_PCT']]\n",
    "\n",
    "## Removing rows where YIBSZFI is aggregated ('totals')\n",
    "yb = yb[yb.YIBSZFI != '001']\n",
    "\n",
    "## Only keeping family and not family owned. Removing item not reported and total rows \n",
    "yb = yb[(yb.BUSCHAR == 'BM') | (yb.BUSCHAR == 'BN')]\n",
    "\n",
    "## Changing datatypes\n",
    "yb = yb.astype({\"FIRMPDEMP\": \"int\", \"FIRMPDEMP_PCT\": \"float\", \"RCPPDEMP\": \"int64\", \"EMP\": \"int64\", \"EMP_PCT\": \"float\", \"PAYANN\": \"int64\", \"PAYANN_PCT\": \"float\"})\n",
    "\n",
    "## Sorting\n",
    "yb.sort_values(by = ['YIBSZFI'], inplace= True)\n",
    "yb.reset_index(inplace = True, drop = True)\n",
    "\n",
    "## Replacing codes with descriptive values\n",
    "yb.YIBSZFI.replace('311', 'less than 2', inplace=True)\n",
    "yb.YIBSZFI.replace('318', '2 to 3', inplace=True)\n",
    "yb.YIBSZFI.replace('319', '4 to 5', inplace=True)\n",
    "yb.YIBSZFI.replace('321', '6 to 10', inplace=True)\n",
    "yb.YIBSZFI.replace('322', '11 to 15', inplace=True)\n",
    "yb.YIBSZFI.replace('323', '16 +', inplace=True)\n",
    "\n",
    "\n",
    "yb"
   ]
  },
  {
   "cell_type": "code",
   "execution_count": 507,
   "metadata": {},
   "outputs": [
    {
     "data": {
      "text/plain": [
       "<matplotlib.legend.Legend at 0x22e4821ddf0>"
      ]
     },
     "execution_count": 507,
     "metadata": {},
     "output_type": "execute_result"
    },
    {
     "data": {
      "image/png": "[encoded data removed]",
      "text/plain": [
       "<Figure size 1000x1200 with 1 Axes>"
      ]
     },
     "metadata": {},
     "output_type": "display_data"
    }
   ],
   "source": [
    "### Visualization: Clustered Bar\n",
    "\n",
    "# grouping\n",
    "yb_famown_count = yb.groupby(['YIBSZFI', 'BUSCHAR_LABEL'])['FIRMPDEMP'].sum().unstack().fillna(0)\n",
    "\n",
    "# sorting \n",
    "sort_dict = {'less than 2':0,'2 to 3':1,'4 to 5':2, '6 to 10':3, '11 to 15':4, '16 +':5}\n",
    "yb_famown_count['new'] = yb_famown_count.index\n",
    "yb_famown_count['sortmap'] = yb_famown_count['new'].map(lambda x: sort_dict[x])\n",
    "yb_famown_count = yb_famown_count.sort_values('sortmap')\n",
    "\n",
    "# Removing field added for sorting\n",
    "yb_famown_count_VIS = yb_famown_count[[\"Family-owned\", \"Not family-owned\"]]\n",
    "\n",
    "# Plot\n",
    "plt.rcParams[\"figure.figsize\"] = (10,12)\n",
    "\n",
    "yb_famown_count_VIS.plot(kind='bar', stacked=False)\n",
    "plt.title('Count of Businesses by Family Ownership and Years in Business', fontsize=20)\n",
    "plt.ylabel('Count of Businesses', fontsize = 15)\n",
    "plt.xlabel('Years in Business', fontsize = 15)\n",
    "plt.xticks(rotation=0, ha='center', fontsize = 15)\n",
    "plt.yticks(rotation=0, fontsize = 15)\n",
    "plt.legend(title='Family Ownership')\n"
   ]
  },
  {
   "cell_type": "code",
   "execution_count": 508,
   "metadata": {},
   "outputs": [
    {
     "data": {
      "text/plain": [
       "<matplotlib.legend.Legend at 0x22e490974c0>"
      ]
     },
     "execution_count": 508,
     "metadata": {},
     "output_type": "execute_result"
    },
    {
     "data": {
      "image/png": "[encoded data removed]",
      "text/plain": [
       "<Figure size 1000x1200 with 1 Axes>"
      ]
     },
     "metadata": {},
     "output_type": "display_data"
    }
   ],
   "source": [
    "### Visualization: 100% Stacked Bar\n",
    "\n",
    "\n",
    "# grouping\n",
    "yb_famown_pct = yb.groupby(['YIBSZFI', 'BUSCHAR_LABEL'])['FIRMPDEMP_PCT'].sum().unstack().fillna(0)\n",
    "\n",
    "# sorting\n",
    "sort_dict = {'less than 2':0,'2 to 3':1,'4 to 5':2, '6 to 10':3, '11 to 15':4, '16 +':5}\n",
    "yb_famown_pct['new'] = yb_famown_pct.index\n",
    "yb_famown_pct['sortmap'] = yb_famown_pct['new'].map(lambda x: sort_dict[x])\n",
    "yb_famown_pct = yb_famown_pct.sort_values('sortmap')\n",
    "\n",
    "# Removing field added for sorting\n",
    "yb_famown_pct_VIS = yb_famown_pct[[\"Family-owned\", \"Not family-owned\"]]\n",
    "\n",
    "# plot\n",
    "plt.rcParams[\"figure.figsize\"] = (10,12)\n",
    "\n",
    "yb_famown_pct_VIS.plot(kind='bar', stacked=True)\n",
    "plt.title('Percentage Breakdown of Family Ownership by Years in Business', fontsize = 20)\n",
    "plt.ylabel('Percent', fontsize = 15)\n",
    "plt.xlabel('Years in Business', fontsize = 15)\n",
    "plt.yticks(rotation=0, fontsize = 15)\n",
    "plt.xticks(rotation=0, ha='center', fontsize = 15)\n",
    "plt.legend(title='Family Ownership')\n"
   ]
  },
  {
   "attachments": {},
   "cell_type": "markdown",
   "metadata": {},
   "source": [
    "#### drilling in on sex group"
   ]
  },
  {
   "cell_type": "code",
   "execution_count": 527,
   "metadata": {},
   "outputs": [
    {
     "data": {
      "text/plain": [
       "<matplotlib.legend.Legend at 0x22e7c96d160>"
      ]
     },
     "execution_count": 527,
     "metadata": {},
     "output_type": "execute_result"
    },
    {
     "data": {
      "image/png": "[encoded data removed]",
      "text/plain": [
       "<Figure size 1000x1000 with 1 Axes>"
      ]
     },
     "metadata": {},
     "output_type": "display_data"
    }
   ],
   "source": [
    "\n",
    "## Create df that focuses on total for all sectors (NAICS2017 = 00), and disregards veteran, and ethnicity group. \n",
    "yb_sex = yb_famown[(yb_famown.VET_GROUP == '001') & (yb_famown.RACE_GROUP == '00') & (yb_famown.ETH_GROUP == '001') & (yb_famown.NAICS2017 == '00')]\n",
    "\n",
    "## Selecting columns and rows\n",
    "yb_sex= yb_sex[['YIBSZFI', 'SEX_LABEL', 'BUSCHAR', 'BUSCHAR_LABEL', 'FIRMPDEMP', 'FIRMPDEMP_PCT', 'RCPPDEMP', 'EMP', 'EMP_PCT', 'PAYANN', 'PAYANN_PCT']]\n",
    "yb_sex = yb_sex[yb_sex.YIBSZFI != '001']\n",
    "## Only keeping Family Owned Businesses \n",
    "yb_sex = yb_sex[(yb_sex.BUSCHAR == 'BM')]\n",
    "## Removing sex = total \n",
    "yb_sex = yb_sex[yb_sex.SEX_LABEL != 'Total']\n",
    "\n",
    "## Replacing codes with descriptive values\n",
    "yb_sex.YIBSZFI.replace('311', 'less than 2', inplace=True)\n",
    "yb_sex.YIBSZFI.replace('318', '2 to 3', inplace=True)\n",
    "yb_sex.YIBSZFI.replace('319', '4 to 5', inplace=True)\n",
    "yb_sex.YIBSZFI.replace('321', '6 to 10', inplace=True)\n",
    "yb_sex.YIBSZFI.replace('322', '11 to 15', inplace=True)\n",
    "yb_sex.YIBSZFI.replace('323', '16 + ', inplace=True)\n",
    "\n",
    "## Changing datatypes\n",
    "yb_sex = yb_sex.astype({\"FIRMPDEMP\": \"int\", \"FIRMPDEMP_PCT\": \"float\", \"RCPPDEMP\": \"int64\", \"EMP\": \"int64\", \"EMP_PCT\": \"float\", \"PAYANN\": \"int64\", \"PAYANN_PCT\": \"float\"})\n",
    "\n",
    "# Pivoting df\n",
    "yb_sex_pivoted = yb_sex.pivot(index='YIBSZFI', columns='SEX_LABEL', values='FIRMPDEMP_PCT')\n",
    "\n",
    "# Sorting\n",
    "sort_dict = {'less than 2':0,'2 to 3':1,'4 to 5':2, '6 to 10':3, '11 to 15':4, '16 + ':5}\n",
    "yb_sex_pivoted['new'] = yb_sex_pivoted.index\n",
    "yb_sex_pivoted['sortmap'] = yb_sex_pivoted['new'].map(lambda x: sort_dict[x])\n",
    "yb_sex_pivoted = yb_sex_pivoted.sort_values('sortmap')\n",
    "\n",
    "# Removing field added for sorting\n",
    "yb_sex_pivoted_VIS = yb_sex_pivoted[[\"Equally male/female\", \"Male\", \"Female\"]]\n",
    "\n",
    "# Plot\n",
    "plt.rcParams[\"figure.figsize\"] = (10,10)\n",
    "\n",
    "yb_sex_pivoted_VIS.plot(kind='bar')\n",
    "plt.title('Percentage Breakdown of Family Ownership by Years in Business and Majority Ownership Sex', fontsize = 20)\n",
    "plt.ylabel('Percent Family Owned', fontsize = 15)\n",
    "plt.xlabel('Years in Business', fontsize = 15)\n",
    "plt.yticks(rotation=0, fontsize = 15)\n",
    "plt.xticks(rotation=0, ha='center', fontsize = 15)\n",
    "plt.legend(title='Majority Owner Sex')"
   ]
  },
  {
   "attachments": {},
   "cell_type": "markdown",
   "metadata": {},
   "source": [
    "#### ------------------- family ownership by state --------------------------------"
   ]
  },
  {
   "cell_type": "code",
   "execution_count": 451,
   "metadata": {},
   "outputs": [],
   "source": [
    "\n",
    "params_famown_state = {\n",
    "    'get' : 'GEO_ID,NAME,NAICS2017,NAICS2017_LABEL,SEX,SEX_LABEL,ETH_GROUP,ETH_GROUP_LABEL,RACE_GROUP,RACE_GROUP_LABEL,VET_GROUP,VET_GROUP_LABEL,QDESC,QDESC_LABEL,BUSCHAR,BUSCHAR_LABEL,YEAR,FIRMPDEMP,FIRMPDEMP_F,FIRMPDEMP_PCT,FIRMPDEMP_PCT_F,RCPPDEMP,RCPPDEMP_F,RCPPDEMP_PCT,RCPPDEMP_PCT_F,EMP,EMP_F,EMP_PCT,EMP_PCT_F,PAYANN,PAYANN_F,PAYANN_PCT,PAYANN_PCT_F,FIRMPDEMP_S,FIRMPDEMP_S_F,FIRMPDEMP_PCT_S,FIRMPDEMP_PCT_S_F,RCPPDEMP_S,RCPPDEMP_S_F,RCPPDEMP_PCT_S,RCPPDEMP_PCT_S_F,EMP_S,EMP_S_F,EMP_PCT_S,EMP_PCT_S_F,PAYANN_S,PAYANN_S_F,PAYANN_PCT_S,PAYANN_PCT_S_F',\n",
    "    'for' : 'state',\n",
    "    'QDESC_LABEL' : 'FAMOWN',\n",
    "    'key' : '10bf25bcce0f90f77afc9446298738e209ce9d58' \n",
    "}\n",
    "response_famown_state = requests.get(base, params = params_famown_state)\n",
    "\n",
    "famown_state = CleanData(response_famown_state)\n",
    "\n",
    "\n",
    "## Selecting columns and rows\n",
    "famown_state = famown_state[['NAME', 'BUSCHAR', 'BUSCHAR_LABEL', 'FIRMPDEMP', 'FIRMPDEMP_PCT']]\n",
    "famown_state = famown_state[famown_state.BUSCHAR == 'BM']\n",
    "\n",
    "\n",
    "## Changing datatypes\n",
    "famown_state = famown_state.astype({\"FIRMPDEMP\": \"int\", \"FIRMPDEMP_PCT\": \"float\"})\n",
    "\n"
   ]
  },
  {
   "cell_type": "code",
   "execution_count": 452,
   "metadata": {},
   "outputs": [
    {
     "data": {
      "text/html": [
       "<div>\n",
       "<style scoped>\n",
       "    .dataframe tbody tr th:only-of-type {\n",
       "        vertical-align: middle;\n",
       "    }\n",
       "\n",
       "    .dataframe tbody tr th {\n",
       "        vertical-align: top;\n",
       "    }\n",
       "\n",
       "    .dataframe thead th {\n",
       "        text-align: right;\n",
       "    }\n",
       "</style>\n",
       "<table border=\"1\" class=\"dataframe\">\n",
       "  <thead>\n",
       "    <tr style=\"text-align: right;\">\n",
       "      <th></th>\n",
       "      <th>NAME</th>\n",
       "      <th>BUSCHAR</th>\n",
       "      <th>BUSCHAR_LABEL</th>\n",
       "      <th>FIRMPDEMP</th>\n",
       "      <th>FIRMPDEMP_PCT</th>\n",
       "    </tr>\n",
       "  </thead>\n",
       "  <tbody>\n",
       "    <tr>\n",
       "      <th>1</th>\n",
       "      <td>MS</td>\n",
       "      <td>BM</td>\n",
       "      <td>Family-owned</td>\n",
       "      <td>4744</td>\n",
       "      <td>28.7</td>\n",
       "    </tr>\n",
       "    <tr>\n",
       "      <th>7</th>\n",
       "      <td>MO</td>\n",
       "      <td>BM</td>\n",
       "      <td>Family-owned</td>\n",
       "      <td>18034</td>\n",
       "      <td>35.3</td>\n",
       "    </tr>\n",
       "    <tr>\n",
       "      <th>13</th>\n",
       "      <td>MT</td>\n",
       "      <td>BM</td>\n",
       "      <td>Family-owned</td>\n",
       "      <td>6419</td>\n",
       "      <td>40.6</td>\n",
       "    </tr>\n",
       "    <tr>\n",
       "      <th>19</th>\n",
       "      <td>NE</td>\n",
       "      <td>BM</td>\n",
       "      <td>Family-owned</td>\n",
       "      <td>8466</td>\n",
       "      <td>39.0</td>\n",
       "    </tr>\n",
       "    <tr>\n",
       "      <th>25</th>\n",
       "      <td>NV</td>\n",
       "      <td>BM</td>\n",
       "      <td>Family-owned</td>\n",
       "      <td>5855</td>\n",
       "      <td>30.1</td>\n",
       "    </tr>\n",
       "    <tr>\n",
       "      <th>31</th>\n",
       "      <td>NH</td>\n",
       "      <td>BM</td>\n",
       "      <td>Family-owned</td>\n",
       "      <td>2956</td>\n",
       "      <td>22.8</td>\n",
       "    </tr>\n",
       "    <tr>\n",
       "      <th>37</th>\n",
       "      <td>NJ</td>\n",
       "      <td>BM</td>\n",
       "      <td>Family-owned</td>\n",
       "      <td>19410</td>\n",
       "      <td>24.0</td>\n",
       "    </tr>\n",
       "    <tr>\n",
       "      <th>43</th>\n",
       "      <td>NM</td>\n",
       "      <td>BM</td>\n",
       "      <td>Family-owned</td>\n",
       "      <td>5038</td>\n",
       "      <td>37.5</td>\n",
       "    </tr>\n",
       "    <tr>\n",
       "      <th>49</th>\n",
       "      <td>NY</td>\n",
       "      <td>BM</td>\n",
       "      <td>Family-owned</td>\n",
       "      <td>38139</td>\n",
       "      <td>21.2</td>\n",
       "    </tr>\n",
       "    <tr>\n",
       "      <th>55</th>\n",
       "      <td>NC</td>\n",
       "      <td>BM</td>\n",
       "      <td>Family-owned</td>\n",
       "      <td>25107</td>\n",
       "      <td>29.9</td>\n",
       "    </tr>\n",
       "    <tr>\n",
       "      <th>61</th>\n",
       "      <td>ND</td>\n",
       "      <td>BM</td>\n",
       "      <td>Family-owned</td>\n",
       "      <td>3058</td>\n",
       "      <td>34.7</td>\n",
       "    </tr>\n",
       "    <tr>\n",
       "      <th>67</th>\n",
       "      <td>OH</td>\n",
       "      <td>BM</td>\n",
       "      <td>Family-owned</td>\n",
       "      <td>24839</td>\n",
       "      <td>28.2</td>\n",
       "    </tr>\n",
       "    <tr>\n",
       "      <th>73</th>\n",
       "      <td>OK</td>\n",
       "      <td>BM</td>\n",
       "      <td>Family-owned</td>\n",
       "      <td>10571</td>\n",
       "      <td>35.0</td>\n",
       "    </tr>\n",
       "    <tr>\n",
       "      <th>79</th>\n",
       "      <td>OR</td>\n",
       "      <td>BM</td>\n",
       "      <td>Family-owned</td>\n",
       "      <td>15339</td>\n",
       "      <td>34.1</td>\n",
       "    </tr>\n",
       "    <tr>\n",
       "      <th>85</th>\n",
       "      <td>PA</td>\n",
       "      <td>BM</td>\n",
       "      <td>Family-owned</td>\n",
       "      <td>27665</td>\n",
       "      <td>26.2</td>\n",
       "    </tr>\n",
       "    <tr>\n",
       "      <th>91</th>\n",
       "      <td>RI</td>\n",
       "      <td>BM</td>\n",
       "      <td>Family-owned</td>\n",
       "      <td>1875</td>\n",
       "      <td>23.8</td>\n",
       "    </tr>\n",
       "    <tr>\n",
       "      <th>97</th>\n",
       "      <td>SC</td>\n",
       "      <td>BM</td>\n",
       "      <td>Family-owned</td>\n",
       "      <td>8861</td>\n",
       "      <td>25.4</td>\n",
       "    </tr>\n",
       "    <tr>\n",
       "      <th>103</th>\n",
       "      <td>SD</td>\n",
       "      <td>BM</td>\n",
       "      <td>Family-owned</td>\n",
       "      <td>4200</td>\n",
       "      <td>43.4</td>\n",
       "    </tr>\n",
       "    <tr>\n",
       "      <th>109</th>\n",
       "      <td>TN</td>\n",
       "      <td>BM</td>\n",
       "      <td>Family-owned</td>\n",
       "      <td>12734</td>\n",
       "      <td>30.4</td>\n",
       "    </tr>\n",
       "    <tr>\n",
       "      <th>115</th>\n",
       "      <td>TX</td>\n",
       "      <td>BM</td>\n",
       "      <td>Family-owned</td>\n",
       "      <td>60960</td>\n",
       "      <td>32.8</td>\n",
       "    </tr>\n",
       "    <tr>\n",
       "      <th>121</th>\n",
       "      <td>VT</td>\n",
       "      <td>BM</td>\n",
       "      <td>Family-owned</td>\n",
       "      <td>2407</td>\n",
       "      <td>33.5</td>\n",
       "    </tr>\n",
       "    <tr>\n",
       "      <th>127</th>\n",
       "      <td>UT</td>\n",
       "      <td>BM</td>\n",
       "      <td>Family-owned</td>\n",
       "      <td>11026</td>\n",
       "      <td>36.4</td>\n",
       "    </tr>\n",
       "    <tr>\n",
       "      <th>133</th>\n",
       "      <td>VA</td>\n",
       "      <td>BM</td>\n",
       "      <td>Family-owned</td>\n",
       "      <td>19370</td>\n",
       "      <td>28.3</td>\n",
       "    </tr>\n",
       "    <tr>\n",
       "      <th>139</th>\n",
       "      <td>WA</td>\n",
       "      <td>BM</td>\n",
       "      <td>Family-owned</td>\n",
       "      <td>26063</td>\n",
       "      <td>37.1</td>\n",
       "    </tr>\n",
       "    <tr>\n",
       "      <th>145</th>\n",
       "      <td>WV</td>\n",
       "      <td>BM</td>\n",
       "      <td>Family-owned</td>\n",
       "      <td>3346</td>\n",
       "      <td>31.7</td>\n",
       "    </tr>\n",
       "    <tr>\n",
       "      <th>151</th>\n",
       "      <td>WI</td>\n",
       "      <td>BM</td>\n",
       "      <td>Family-owned</td>\n",
       "      <td>20517</td>\n",
       "      <td>36.7</td>\n",
       "    </tr>\n",
       "    <tr>\n",
       "      <th>157</th>\n",
       "      <td>WY</td>\n",
       "      <td>BM</td>\n",
       "      <td>Family-owned</td>\n",
       "      <td>2622</td>\n",
       "      <td>38.3</td>\n",
       "    </tr>\n",
       "    <tr>\n",
       "      <th>163</th>\n",
       "      <td>AL</td>\n",
       "      <td>BM</td>\n",
       "      <td>Family-owned</td>\n",
       "      <td>7975</td>\n",
       "      <td>26.5</td>\n",
       "    </tr>\n",
       "    <tr>\n",
       "      <th>169</th>\n",
       "      <td>AK</td>\n",
       "      <td>BM</td>\n",
       "      <td>Family-owned</td>\n",
       "      <td>1753</td>\n",
       "      <td>29.4</td>\n",
       "    </tr>\n",
       "    <tr>\n",
       "      <th>175</th>\n",
       "      <td>AZ</td>\n",
       "      <td>BM</td>\n",
       "      <td>Family-owned</td>\n",
       "      <td>16716</td>\n",
       "      <td>35.4</td>\n",
       "    </tr>\n",
       "    <tr>\n",
       "      <th>181</th>\n",
       "      <td>AR</td>\n",
       "      <td>BM</td>\n",
       "      <td>Family-owned</td>\n",
       "      <td>6917</td>\n",
       "      <td>32.3</td>\n",
       "    </tr>\n",
       "    <tr>\n",
       "      <th>187</th>\n",
       "      <td>CA</td>\n",
       "      <td>BM</td>\n",
       "      <td>Family-owned</td>\n",
       "      <td>103974</td>\n",
       "      <td>30.2</td>\n",
       "    </tr>\n",
       "    <tr>\n",
       "      <th>193</th>\n",
       "      <td>CO</td>\n",
       "      <td>BM</td>\n",
       "      <td>Family-owned</td>\n",
       "      <td>20444</td>\n",
       "      <td>30.1</td>\n",
       "    </tr>\n",
       "    <tr>\n",
       "      <th>199</th>\n",
       "      <td>DE</td>\n",
       "      <td>BM</td>\n",
       "      <td>Family-owned</td>\n",
       "      <td>1869</td>\n",
       "      <td>28.7</td>\n",
       "    </tr>\n",
       "    <tr>\n",
       "      <th>205</th>\n",
       "      <td>DC</td>\n",
       "      <td>BM</td>\n",
       "      <td>Family-owned</td>\n",
       "      <td>674</td>\n",
       "      <td>17.4</td>\n",
       "    </tr>\n",
       "    <tr>\n",
       "      <th>211</th>\n",
       "      <td>ID</td>\n",
       "      <td>BM</td>\n",
       "      <td>Family-owned</td>\n",
       "      <td>7774</td>\n",
       "      <td>42.1</td>\n",
       "    </tr>\n",
       "    <tr>\n",
       "      <th>217</th>\n",
       "      <td>CT</td>\n",
       "      <td>BM</td>\n",
       "      <td>Family-owned</td>\n",
       "      <td>6945</td>\n",
       "      <td>24.5</td>\n",
       "    </tr>\n",
       "    <tr>\n",
       "      <th>223</th>\n",
       "      <td>FL</td>\n",
       "      <td>BM</td>\n",
       "      <td>Family-owned</td>\n",
       "      <td>57907</td>\n",
       "      <td>29.0</td>\n",
       "    </tr>\n",
       "    <tr>\n",
       "      <th>229</th>\n",
       "      <td>GA</td>\n",
       "      <td>BM</td>\n",
       "      <td>Family-owned</td>\n",
       "      <td>19559</td>\n",
       "      <td>25.1</td>\n",
       "    </tr>\n",
       "    <tr>\n",
       "      <th>235</th>\n",
       "      <td>HI</td>\n",
       "      <td>BM</td>\n",
       "      <td>Family-owned</td>\n",
       "      <td>2383</td>\n",
       "      <td>25.2</td>\n",
       "    </tr>\n",
       "    <tr>\n",
       "      <th>241</th>\n",
       "      <td>IL</td>\n",
       "      <td>BM</td>\n",
       "      <td>Family-owned</td>\n",
       "      <td>29363</td>\n",
       "      <td>25.5</td>\n",
       "    </tr>\n",
       "    <tr>\n",
       "      <th>247</th>\n",
       "      <td>IN</td>\n",
       "      <td>BM</td>\n",
       "      <td>Family-owned</td>\n",
       "      <td>17759</td>\n",
       "      <td>33.3</td>\n",
       "    </tr>\n",
       "    <tr>\n",
       "      <th>253</th>\n",
       "      <td>IA</td>\n",
       "      <td>BM</td>\n",
       "      <td>Family-owned</td>\n",
       "      <td>10787</td>\n",
       "      <td>35.9</td>\n",
       "    </tr>\n",
       "    <tr>\n",
       "      <th>259</th>\n",
       "      <td>KS</td>\n",
       "      <td>BM</td>\n",
       "      <td>Family-owned</td>\n",
       "      <td>8958</td>\n",
       "      <td>34.4</td>\n",
       "    </tr>\n",
       "    <tr>\n",
       "      <th>265</th>\n",
       "      <td>KY</td>\n",
       "      <td>BM</td>\n",
       "      <td>Family-owned</td>\n",
       "      <td>9152</td>\n",
       "      <td>29.4</td>\n",
       "    </tr>\n",
       "    <tr>\n",
       "      <th>271</th>\n",
       "      <td>LA</td>\n",
       "      <td>BM</td>\n",
       "      <td>Family-owned</td>\n",
       "      <td>9690</td>\n",
       "      <td>31.4</td>\n",
       "    </tr>\n",
       "    <tr>\n",
       "      <th>277</th>\n",
       "      <td>ME</td>\n",
       "      <td>BM</td>\n",
       "      <td>Family-owned</td>\n",
       "      <td>4604</td>\n",
       "      <td>33.1</td>\n",
       "    </tr>\n",
       "    <tr>\n",
       "      <th>283</th>\n",
       "      <td>MD</td>\n",
       "      <td>BM</td>\n",
       "      <td>Family-owned</td>\n",
       "      <td>11833</td>\n",
       "      <td>24.8</td>\n",
       "    </tr>\n",
       "    <tr>\n",
       "      <th>289</th>\n",
       "      <td>MA</td>\n",
       "      <td>BM</td>\n",
       "      <td>Family-owned</td>\n",
       "      <td>12878</td>\n",
       "      <td>21.9</td>\n",
       "    </tr>\n",
       "    <tr>\n",
       "      <th>295</th>\n",
       "      <td>MI</td>\n",
       "      <td>BM</td>\n",
       "      <td>Family-owned</td>\n",
       "      <td>21353</td>\n",
       "      <td>26.1</td>\n",
       "    </tr>\n",
       "    <tr>\n",
       "      <th>301</th>\n",
       "      <td>MN</td>\n",
       "      <td>BM</td>\n",
       "      <td>Family-owned</td>\n",
       "      <td>17863</td>\n",
       "      <td>30.4</td>\n",
       "    </tr>\n",
       "  </tbody>\n",
       "</table>\n",
       "</div>"
      ],
      "text/plain": [
       "    NAME BUSCHAR BUSCHAR_LABEL  FIRMPDEMP  FIRMPDEMP_PCT\n",
       "1     MS      BM  Family-owned       4744           28.7\n",
       "7     MO      BM  Family-owned      18034           35.3\n",
       "13    MT      BM  Family-owned       6419           40.6\n",
       "19    NE      BM  Family-owned       8466           39.0\n",
       "25    NV      BM  Family-owned       5855           30.1\n",
       "31    NH      BM  Family-owned       2956           22.8\n",
       "37    NJ      BM  Family-owned      19410           24.0\n",
       "43    NM      BM  Family-owned       5038           37.5\n",
       "49    NY      BM  Family-owned      38139           21.2\n",
       "55    NC      BM  Family-owned      25107           29.9\n",
       "61    ND      BM  Family-owned       3058           34.7\n",
       "67    OH      BM  Family-owned      24839           28.2\n",
       "73    OK      BM  Family-owned      10571           35.0\n",
       "79    OR      BM  Family-owned      15339           34.1\n",
       "85    PA      BM  Family-owned      27665           26.2\n",
       "91    RI      BM  Family-owned       1875           23.8\n",
       "97    SC      BM  Family-owned       8861           25.4\n",
       "103   SD      BM  Family-owned       4200           43.4\n",
       "109   TN      BM  Family-owned      12734           30.4\n",
       "115   TX      BM  Family-owned      60960           32.8\n",
       "121   VT      BM  Family-owned       2407           33.5\n",
       "127   UT      BM  Family-owned      11026           36.4\n",
       "133   VA      BM  Family-owned      19370           28.3\n",
       "139   WA      BM  Family-owned      26063           37.1\n",
       "145   WV      BM  Family-owned       3346           31.7\n",
       "151   WI      BM  Family-owned      20517           36.7\n",
       "157   WY      BM  Family-owned       2622           38.3\n",
       "163   AL      BM  Family-owned       7975           26.5\n",
       "169   AK      BM  Family-owned       1753           29.4\n",
       "175   AZ      BM  Family-owned      16716           35.4\n",
       "181   AR      BM  Family-owned       6917           32.3\n",
       "187   CA      BM  Family-owned     103974           30.2\n",
       "193   CO      BM  Family-owned      20444           30.1\n",
       "199   DE      BM  Family-owned       1869           28.7\n",
       "205   DC      BM  Family-owned        674           17.4\n",
       "211   ID      BM  Family-owned       7774           42.1\n",
       "217   CT      BM  Family-owned       6945           24.5\n",
       "223   FL      BM  Family-owned      57907           29.0\n",
       "229   GA      BM  Family-owned      19559           25.1\n",
       "235   HI      BM  Family-owned       2383           25.2\n",
       "241   IL      BM  Family-owned      29363           25.5\n",
       "247   IN      BM  Family-owned      17759           33.3\n",
       "253   IA      BM  Family-owned      10787           35.9\n",
       "259   KS      BM  Family-owned       8958           34.4\n",
       "265   KY      BM  Family-owned       9152           29.4\n",
       "271   LA      BM  Family-owned       9690           31.4\n",
       "277   ME      BM  Family-owned       4604           33.1\n",
       "283   MD      BM  Family-owned      11833           24.8\n",
       "289   MA      BM  Family-owned      12878           21.9\n",
       "295   MI      BM  Family-owned      21353           26.1\n",
       "301   MN      BM  Family-owned      17863           30.4"
      ]
     },
     "execution_count": 452,
     "metadata": {},
     "output_type": "execute_result"
    }
   ],
   "source": [
    "us_state_to_abbrev = {\n",
    "    \"Alabama\": \"AL\",\n",
    "    \"Alaska\": \"AK\",\n",
    "    \"Arizona\": \"AZ\",\n",
    "    \"Arkansas\": \"AR\",\n",
    "    \"California\": \"CA\",\n",
    "    \"Colorado\": \"CO\",\n",
    "    \"Connecticut\": \"CT\",\n",
    "    \"Delaware\": \"DE\",\n",
    "    \"Florida\": \"FL\",\n",
    "    \"Georgia\": \"GA\",\n",
    "    \"Hawaii\": \"HI\",\n",
    "    \"Idaho\": \"ID\",\n",
    "    \"Illinois\": \"IL\",\n",
    "    \"Indiana\": \"IN\",\n",
    "    \"Iowa\": \"IA\",\n",
    "    \"Kansas\": \"KS\",\n",
    "    \"Kentucky\": \"KY\",\n",
    "    \"Louisiana\": \"LA\",\n",
    "    \"Maine\": \"ME\",\n",
    "    \"Maryland\": \"MD\",\n",
    "    \"Massachusetts\": \"MA\",\n",
    "    \"Michigan\": \"MI\",\n",
    "    \"Minnesota\": \"MN\",\n",
    "    \"Mississippi\": \"MS\",\n",
    "    \"Missouri\": \"MO\",\n",
    "    \"Montana\": \"MT\",\n",
    "    \"Nebraska\": \"NE\",\n",
    "    \"Nevada\": \"NV\",\n",
    "    \"New Hampshire\": \"NH\",\n",
    "    \"New Jersey\": \"NJ\",\n",
    "    \"New Mexico\": \"NM\",\n",
    "    \"New York\": \"NY\",\n",
    "    \"North Carolina\": \"NC\",\n",
    "    \"North Dakota\": \"ND\",\n",
    "    \"Ohio\": \"OH\",\n",
    "    \"Oklahoma\": \"OK\",\n",
    "    \"Oregon\": \"OR\",\n",
    "    \"Pennsylvania\": \"PA\",\n",
    "    \"Rhode Island\": \"RI\",\n",
    "    \"South Carolina\": \"SC\",\n",
    "    \"South Dakota\": \"SD\",\n",
    "    \"Tennessee\": \"TN\",\n",
    "    \"Texas\": \"TX\",\n",
    "    \"Utah\": \"UT\",\n",
    "    \"Vermont\": \"VT\",\n",
    "    \"Virginia\": \"VA\",\n",
    "    \"Washington\": \"WA\",\n",
    "    \"West Virginia\": \"WV\",\n",
    "    \"Wisconsin\": \"WI\",\n",
    "    \"Wyoming\": \"WY\",\n",
    "    \"District of Columbia\": \"DC\",\n",
    "    \"American Samoa\": \"AS\",\n",
    "    \"Guam\": \"GU\",\n",
    "    \"Northern Mariana Islands\": \"MP\",\n",
    "    \"Puerto Rico\": \"PR\",\n",
    "    \"United States Minor Outlying Islands\": \"UM\",\n",
    "    \"U.S. Virgin Islands\": \"VI\",\n",
    "}\n",
    "\n",
    "# Replacing state names with abbreviations\n",
    "famown_state['NAME'] = famown_state['NAME'].replace(us_state_to_abbrev)"
   ]
  },
  {
   "cell_type": "code",
   "execution_count": 454,
   "metadata": {},
   "outputs": [
    {
     "data": {
      "application/vnd.plotly.v1+json": {
       "config": {
        "plotlyServerURL": "https://plot.ly"
       },
       "data": [
        {
         "coloraxis": "coloraxis",
         "geo": "geo",
         "hovertemplate": "NAME=%{location}<br>FIRMPDEMP_PCT=%{z}<extra></extra>",
         "locationmode": "USA-states",
         "locations": [
          "MS",
          "MO",
          "MT",
          "NE",
          "NV",
          "NH",
          "NJ",
          "NM",
          "NY",
          "NC",
          "ND",
          "OH",
          "OK",
          "OR",
          "PA",
          "RI",
          "SC",
          "SD",
          "TN",
          "TX",
          "VT",
          "UT",
          "VA",
          "WA",
          "WV",
          "WI",
          "WY",
          "AL",
          "AK",
          "AZ",
          "AR",
          "CA",
          "CO",
          "DE",
          "DC",
          "ID",
          "CT",
          "FL",
          "GA",
          "HI",
          "IL",
          "IN",
          "IA",
          "KS",
          "KY",
          "LA",
          "ME",
          "MD",
          "MA",
          "MI",
          "MN"
         ],
         "name": "",
         "type": "choropleth",
         "z": [
          28.7,
          35.3,
          40.6,
          39,
          30.1,
          22.8,
          24,
          37.5,
          21.2,
          29.9,
          34.7,
          28.2,
          35,
          34.1,
          26.2,
          23.8,
          25.4,
          43.4,
          30.4,
          32.8,
          33.5,
          36.4,
          28.3,
          37.1,
          31.7,
          36.7,
          38.3,
          26.5,
          29.4,
          35.4,
          32.3,
          30.2,
          30.1,
          28.7,
          17.4,
          42.1,
          24.5,
          29,
          25.1,
          25.2,
          25.5,
          33.3,
          35.9,
          34.4,
          29.4,
          31.4,
          33.1,
          24.8,
          21.9,
          26.1,
          30.4
         ]
        }
       ],
       "layout": {
        "coloraxis": {
         "colorbar": {
          "title": {
           "text": "FIRMPDEMP_PCT"
          }
         },
         "colorscale": [
          [
           0,
           "#0d0887"
          ],
          [
           0.1111111111111111,
           "#46039f"
          ],
          [
           0.2222222222222222,
           "#7201a8"
          ],
          [
           0.3333333333333333,
           "#9c179e"
          ],
          [
           0.4444444444444444,
           "#bd3786"
          ],
          [
           0.5555555555555556,
           "#d8576b"
          ],
          [
           0.6666666666666666,
           "#ed7953"
          ],
          [
           0.7777777777777778,
           "#fb9f3a"
          ],
          [
           0.8888888888888888,
           "#fdca26"
          ],
          [
           1,
           "#f0f921"
          ]
         ]
        },
        "geo": {
         "center": {},
         "domain": {
          "x": [
           0,
           1
          ],
          "y": [
           0,
           1
          ]
         },
         "scope": "usa"
        },
        "legend": {
         "tracegroupgap": 0
        },
        "margin": {
         "t": 60
        },
        "template": {
         "data": {
          "bar": [
           {
            "error_x": {
             "color": "#2a3f5f"
            },
            "error_y": {
             "color": "#2a3f5f"
            },
            "marker": {
             "line": {
              "color": "#E5ECF6",
              "width": 0.5
             },
             "pattern": {
              "fillmode": "overlay",
              "size": 10,
              "solidity": 0.2
             }
            },
            "type": "bar"
           }
          ],
          "barpolar": [
           {
            "marker": {
             "line": {
              "color": "#E5ECF6",
              "width": 0.5
             },
             "pattern": {
              "fillmode": "overlay",
              "size": 10,
              "solidity": 0.2
             }
            },
            "type": "barpolar"
           }
          ],
          "carpet": [
           {
            "aaxis": {
             "endlinecolor": "#2a3f5f",
             "gridcolor": "white",
             "linecolor": "white",
             "minorgridcolor": "white",
             "startlinecolor": "#2a3f5f"
            },
            "baxis": {
             "endlinecolor": "#2a3f5f",
             "gridcolor": "white",
             "linecolor": "white",
             "minorgridcolor": "white",
             "startlinecolor": "#2a3f5f"
            },
            "type": "carpet"
           }
          ],
          "choropleth": [
           {
            "colorbar": {
             "outlinewidth": 0,
             "ticks": ""
            },
            "type": "choropleth"
           }
          ],
          "contour": [
           {
            "colorbar": {
             "outlinewidth": 0,
             "ticks": ""
            },
            "colorscale": [
             [
              0,
              "#0d0887"
             ],
             [
              0.1111111111111111,
              "#46039f"
             ],
             [
              0.2222222222222222,
              "#7201a8"
             ],
             [
              0.3333333333333333,
              "#9c179e"
             ],
             [
              0.4444444444444444,
              "#bd3786"
             ],
             [
              0.5555555555555556,
              "#d8576b"
             ],
             [
              0.6666666666666666,
              "#ed7953"
             ],
             [
              0.7777777777777778,
              "#fb9f3a"
             ],
             [
              0.8888888888888888,
              "#fdca26"
             ],
             [
              1,
              "#f0f921"
             ]
            ],
            "type": "contour"
           }
          ],
          "contourcarpet": [
           {
            "colorbar": {
             "outlinewidth": 0,
             "ticks": ""
            },
            "type": "contourcarpet"
           }
          ],
          "heatmap": [
           {
            "colorbar": {
             "outlinewidth": 0,
             "ticks": ""
            },
            "colorscale": [
             [
              0,
              "#0d0887"
             ],
             [
              0.1111111111111111,
              "#46039f"
             ],
             [
              0.2222222222222222,
              "#7201a8"
             ],
             [
              0.3333333333333333,
              "#9c179e"
             ],
             [
              0.4444444444444444,
              "#bd3786"
             ],
             [
              0.5555555555555556,
              "#d8576b"
             ],
             [
              0.6666666666666666,
              "#ed7953"
             ],
             [
              0.7777777777777778,
              "#fb9f3a"
             ],
             [
              0.8888888888888888,
              "#fdca26"
             ],
             [
              1,
              "#f0f921"
             ]
            ],
            "type": "heatmap"
           }
          ],
          "heatmapgl": [
           {
            "colorbar": {
             "outlinewidth": 0,
             "ticks": ""
            },
            "colorscale": [
             [
              0,
              "#0d0887"
             ],
             [
              0.1111111111111111,
              "#46039f"
             ],
             [
              0.2222222222222222,
              "#7201a8"
             ],
             [
              0.3333333333333333,
              "#9c179e"
             ],
             [
              0.4444444444444444,
              "#bd3786"
             ],
             [
              0.5555555555555556,
              "#d8576b"
             ],
             [
              0.6666666666666666,
              "#ed7953"
             ],
             [
              0.7777777777777778,
              "#fb9f3a"
             ],
             [
              0.8888888888888888,
              "#fdca26"
             ],
             [
              1,
              "#f0f921"
             ]
            ],
            "type": "heatmapgl"
           }
          ],
          "histogram": [
           {
            "marker": {
             "pattern": {
              "fillmode": "overlay",
              "size": 10,
              "solidity": 0.2
             }
            },
            "type": "histogram"
           }
          ],
          "histogram2d": [
           {
            "colorbar": {
             "outlinewidth": 0,
             "ticks": ""
            },
            "colorscale": [
             [
              0,
              "#0d0887"
             ],
             [
              0.1111111111111111,
              "#46039f"
             ],
             [
              0.2222222222222222,
              "#7201a8"
             ],
             [
              0.3333333333333333,
              "#9c179e"
             ],
             [
              0.4444444444444444,
              "#bd3786"
             ],
             [
              0.5555555555555556,
              "#d8576b"
             ],
             [
              0.6666666666666666,
              "#ed7953"
             ],
             [
              0.7777777777777778,
              "#fb9f3a"
             ],
             [
              0.8888888888888888,
              "#fdca26"
             ],
             [
              1,
              "#f0f921"
             ]
            ],
            "type": "histogram2d"
           }
          ],
          "histogram2dcontour": [
           {
            "colorbar": {
             "outlinewidth": 0,
             "ticks": ""
            },
            "colorscale": [
             [
              0,
              "#0d0887"
             ],
             [
              0.1111111111111111,
              "#46039f"
             ],
             [
              0.2222222222222222,
              "#7201a8"
             ],
             [
              0.3333333333333333,
              "#9c179e"
             ],
             [
              0.4444444444444444,
              "#bd3786"
             ],
             [
              0.5555555555555556,
              "#d8576b"
             ],
             [
              0.6666666666666666,
              "#ed7953"
             ],
             [
              0.7777777777777778,
              "#fb9f3a"
             ],
             [
              0.8888888888888888,
              "#fdca26"
             ],
             [
              1,
              "#f0f921"
             ]
            ],
            "type": "histogram2dcontour"
           }
          ],
          "mesh3d": [
           {
            "colorbar": {
             "outlinewidth": 0,
             "ticks": ""
            },
            "type": "mesh3d"
           }
          ],
          "parcoords": [
           {
            "line": {
             "colorbar": {
              "outlinewidth": 0,
              "ticks": ""
             }
            },
            "type": "parcoords"
           }
          ],
          "pie": [
           {
            "automargin": true,
            "type": "pie"
           }
          ],
          "scatter": [
           {
            "fillpattern": {
             "fillmode": "overlay",
             "size": 10,
             "solidity": 0.2
            },
            "type": "scatter"
           }
          ],
          "scatter3d": [
           {
            "line": {
             "colorbar": {
              "outlinewidth": 0,
              "ticks": ""
             }
            },
            "marker": {
             "colorbar": {
              "outlinewidth": 0,
              "ticks": ""
             }
            },
            "type": "scatter3d"
           }
          ],
          "scattercarpet": [
           {
            "marker": {
             "colorbar": {
              "outlinewidth": 0,
              "ticks": ""
             }
            },
            "type": "scattercarpet"
           }
          ],
          "scattergeo": [
           {
            "marker": {
             "colorbar": {
              "outlinewidth": 0,
              "ticks": ""
             }
            },
            "type": "scattergeo"
           }
          ],
          "scattergl": [
           {
            "marker": {
             "colorbar": {
              "outlinewidth": 0,
              "ticks": ""
             }
            },
            "type": "scattergl"
           }
          ],
          "scattermapbox": [
           {
            "marker": {
             "colorbar": {
              "outlinewidth": 0,
              "ticks": ""
             }
            },
            "type": "scattermapbox"
           }
          ],
          "scatterpolar": [
           {
            "marker": {
             "colorbar": {
              "outlinewidth": 0,
              "ticks": ""
             }
            },
            "type": "scatterpolar"
           }
          ],
          "scatterpolargl": [
           {
            "marker": {
             "colorbar": {
              "outlinewidth": 0,
              "ticks": ""
             }
            },
            "type": "scatterpolargl"
           }
          ],
          "scatterternary": [
           {
            "marker": {
             "colorbar": {
              "outlinewidth": 0,
              "ticks": ""
             }
            },
            "type": "scatterternary"
           }
          ],
          "surface": [
           {
            "colorbar": {
             "outlinewidth": 0,
             "ticks": ""
            },
            "colorscale": [
             [
              0,
              "#0d0887"
             ],
             [
              0.1111111111111111,
              "#46039f"
             ],
             [
              0.2222222222222222,
              "#7201a8"
             ],
             [
              0.3333333333333333,
              "#9c179e"
             ],
             [
              0.4444444444444444,
              "#bd3786"
             ],
             [
              0.5555555555555556,
              "#d8576b"
             ],
             [
              0.6666666666666666,
              "#ed7953"
             ],
             [
              0.7777777777777778,
              "#fb9f3a"
             ],
             [
              0.8888888888888888,
              "#fdca26"
             ],
             [
              1,
              "#f0f921"
             ]
            ],
            "type": "surface"
           }
          ],
          "table": [
           {
            "cells": {
             "fill": {
              "color": "#EBF0F8"
             },
             "line": {
              "color": "white"
             }
            },
            "header": {
             "fill": {
              "color": "#C8D4E3"
             },
             "line": {
              "color": "white"
             }
            },
            "type": "table"
           }
          ]
         },
         "layout": {
          "annotationdefaults": {
           "arrowcolor": "#2a3f5f",
           "arrowhead": 0,
           "arrowwidth": 1
          },
          "autotypenumbers": "strict",
          "coloraxis": {
           "colorbar": {
            "outlinewidth": 0,
            "ticks": ""
           }
          },
          "colorscale": {
           "diverging": [
            [
             0,
             "#8e0152"
            ],
            [
             0.1,
             "#c51b7d"
            ],
            [
             0.2,
             "#de77ae"
            ],
            [
             0.3,
             "#f1b6da"
            ],
            [
             0.4,
             "#fde0ef"
            ],
            [
             0.5,
             "#f7f7f7"
            ],
            [
             0.6,
             "#e6f5d0"
            ],
            [
             0.7,
             "#b8e186"
            ],
            [
             0.8,
             "#7fbc41"
            ],
            [
             0.9,
             "#4d9221"
            ],
            [
             1,
             "#276419"
            ]
           ],
           "sequential": [
            [
             0,
             "#0d0887"
            ],
            [
             0.1111111111111111,
             "#46039f"
            ],
            [
             0.2222222222222222,
             "#7201a8"
            ],
            [
             0.3333333333333333,
             "#9c179e"
            ],
            [
             0.4444444444444444,
             "#bd3786"
            ],
            [
             0.5555555555555556,
             "#d8576b"
            ],
            [
             0.6666666666666666,
             "#ed7953"
            ],
            [
             0.7777777777777778,
             "#fb9f3a"
            ],
            [
             0.8888888888888888,
             "#fdca26"
            ],
            [
             1,
             "#f0f921"
            ]
           ],
           "sequentialminus": [
            [
             0,
             "#0d0887"
            ],
            [
             0.1111111111111111,
             "#46039f"
            ],
            [
             0.2222222222222222,
             "#7201a8"
            ],
            [
             0.3333333333333333,
             "#9c179e"
            ],
            [
             0.4444444444444444,
             "#bd3786"
            ],
            [
             0.5555555555555556,
             "#d8576b"
            ],
            [
             0.6666666666666666,
             "#ed7953"
            ],
            [
             0.7777777777777778,
             "#fb9f3a"
            ],
            [
             0.8888888888888888,
             "#fdca26"
            ],
            [
             1,
             "#f0f921"
            ]
           ]
          },
          "colorway": [
           "#636efa",
           "#EF553B",
           "#00cc96",
           "#ab63fa",
           "#FFA15A",
           "#19d3f3",
           "#FF6692",
           "#B6E880",
           "#FF97FF",
           "#FECB52"
          ],
          "font": {
           "color": "#2a3f5f"
          },
          "geo": {
           "bgcolor": "white",
           "lakecolor": "white",
           "landcolor": "#E5ECF6",
           "showlakes": true,
           "showland": true,
           "subunitcolor": "white"
          },
          "hoverlabel": {
           "align": "left"
          },
          "hovermode": "closest",
          "mapbox": {
           "style": "light"
          },
          "paper_bgcolor": "white",
          "plot_bgcolor": "#E5ECF6",
          "polar": {
           "angularaxis": {
            "gridcolor": "white",
            "linecolor": "white",
            "ticks": ""
           },
           "bgcolor": "#E5ECF6",
           "radialaxis": {
            "gridcolor": "white",
            "linecolor": "white",
            "ticks": ""
           }
          },
          "scene": {
           "xaxis": {
            "backgroundcolor": "#E5ECF6",
            "gridcolor": "white",
            "gridwidth": 2,
            "linecolor": "white",
            "showbackground": true,
            "ticks": "",
            "zerolinecolor": "white"
           },
           "yaxis": {
            "backgroundcolor": "#E5ECF6",
            "gridcolor": "white",
            "gridwidth": 2,
            "linecolor": "white",
            "showbackground": true,
            "ticks": "",
            "zerolinecolor": "white"
           },
           "zaxis": {
            "backgroundcolor": "#E5ECF6",
            "gridcolor": "white",
            "gridwidth": 2,
            "linecolor": "white",
            "showbackground": true,
            "ticks": "",
            "zerolinecolor": "white"
           }
          },
          "shapedefaults": {
           "line": {
            "color": "#2a3f5f"
           }
          },
          "ternary": {
           "aaxis": {
            "gridcolor": "white",
            "linecolor": "white",
            "ticks": ""
           },
           "baxis": {
            "gridcolor": "white",
            "linecolor": "white",
            "ticks": ""
           },
           "bgcolor": "#E5ECF6",
           "caxis": {
            "gridcolor": "white",
            "linecolor": "white",
            "ticks": ""
           }
          },
          "title": {
           "x": 0.05
          },
          "xaxis": {
           "automargin": true,
           "gridcolor": "white",
           "linecolor": "white",
           "ticks": "",
           "title": {
            "standoff": 15
           },
           "zerolinecolor": "white",
           "zerolinewidth": 2
          },
          "yaxis": {
           "automargin": true,
           "gridcolor": "white",
           "linecolor": "white",
           "ticks": "",
           "title": {
            "standoff": 15
           },
           "zerolinecolor": "white",
           "zerolinewidth": 2
          }
         }
        }
       }
      }
     },
     "metadata": {},
     "output_type": "display_data"
    }
   ],
   "source": [
    "\n",
    "# Choropleth map for the data\n",
    "\n",
    "fig = px.choropleth(famown_state, locations='NAME',\n",
    "                    locationmode=\"USA-states\", color='FIRMPDEMP_PCT', scope=\"usa\")\n",
    " \n",
    "fig.show()"
   ]
  },
  {
   "cell_type": "code",
   "execution_count": 528,
   "metadata": {},
   "outputs": [
    {
     "data": {
      "application/vnd.plotly.v1+json": {
       "config": {
        "plotlyServerURL": "https://plot.ly"
       },
       "data": [
        {
         "colorbar": {
          "title": {
           "text": "Percent of Family Owned Businesses"
          }
         },
         "colorscale": [
          [
           0,
           "rgb(247,252,245)"
          ],
          [
           0.125,
           "rgb(229,245,224)"
          ],
          [
           0.25,
           "rgb(199,233,192)"
          ],
          [
           0.375,
           "rgb(161,217,155)"
          ],
          [
           0.5,
           "rgb(116,196,118)"
          ],
          [
           0.625,
           "rgb(65,171,93)"
          ],
          [
           0.75,
           "rgb(35,139,69)"
          ],
          [
           0.875,
           "rgb(0,109,44)"
          ],
          [
           1,
           "rgb(0,68,27)"
          ]
         ],
         "locationmode": "USA-states",
         "locations": [
          "MS",
          "MO",
          "MT",
          "NE",
          "NV",
          "NH",
          "NJ",
          "NM",
          "NY",
          "NC",
          "ND",
          "OH",
          "OK",
          "OR",
          "PA",
          "RI",
          "SC",
          "SD",
          "TN",
          "TX",
          "VT",
          "UT",
          "VA",
          "WA",
          "WV",
          "WI",
          "WY",
          "AL",
          "AK",
          "AZ",
          "AR",
          "CA",
          "CO",
          "DE",
          "DC",
          "ID",
          "CT",
          "FL",
          "GA",
          "HI",
          "IL",
          "IN",
          "IA",
          "KS",
          "KY",
          "LA",
          "ME",
          "MD",
          "MA",
          "MI",
          "MN"
         ],
         "type": "choropleth",
         "z": [
          28.7,
          35.3,
          40.6,
          39,
          30.1,
          22.8,
          24,
          37.5,
          21.2,
          29.9,
          34.7,
          28.2,
          35,
          34.1,
          26.2,
          23.8,
          25.4,
          43.4,
          30.4,
          32.8,
          33.5,
          36.4,
          28.3,
          37.1,
          31.7,
          36.7,
          38.3,
          26.5,
          29.4,
          35.4,
          32.3,
          30.2,
          30.1,
          28.7,
          17.4,
          42.1,
          24.5,
          29,
          25.1,
          25.2,
          25.5,
          33.3,
          35.9,
          34.4,
          29.4,
          31.4,
          33.1,
          24.8,
          21.9,
          26.1,
          30.4
         ]
        }
       ],
       "layout": {
        "geo": {
         "scope": "usa"
        },
        "template": {
         "data": {
          "bar": [
           {
            "error_x": {
             "color": "#2a3f5f"
            },
            "error_y": {
             "color": "#2a3f5f"
            },
            "marker": {
             "line": {
              "color": "#E5ECF6",
              "width": 0.5
             },
             "pattern": {
              "fillmode": "overlay",
              "size": 10,
              "solidity": 0.2
             }
            },
            "type": "bar"
           }
          ],
          "barpolar": [
           {
            "marker": {
             "line": {
              "color": "#E5ECF6",
              "width": 0.5
             },
             "pattern": {
              "fillmode": "overlay",
              "size": 10,
              "solidity": 0.2
             }
            },
            "type": "barpolar"
           }
          ],
          "carpet": [
           {
            "aaxis": {
             "endlinecolor": "#2a3f5f",
             "gridcolor": "white",
             "linecolor": "white",
             "minorgridcolor": "white",
             "startlinecolor": "#2a3f5f"
            },
            "baxis": {
             "endlinecolor": "#2a3f5f",
             "gridcolor": "white",
             "linecolor": "white",
             "minorgridcolor": "white",
             "startlinecolor": "#2a3f5f"
            },
            "type": "carpet"
           }
          ],
          "choropleth": [
           {
            "colorbar": {
             "outlinewidth": 0,
             "ticks": ""
            },
            "type": "choropleth"
           }
          ],
          "contour": [
           {
            "colorbar": {
             "outlinewidth": 0,
             "ticks": ""
            },
            "colorscale": [
             [
              0,
              "#0d0887"
             ],
             [
              0.1111111111111111,
              "#46039f"
             ],
             [
              0.2222222222222222,
              "#7201a8"
             ],
             [
              0.3333333333333333,
              "#9c179e"
             ],
             [
              0.4444444444444444,
              "#bd3786"
             ],
             [
              0.5555555555555556,
              "#d8576b"
             ],
             [
              0.6666666666666666,
              "#ed7953"
             ],
             [
              0.7777777777777778,
              "#fb9f3a"
             ],
             [
              0.8888888888888888,
              "#fdca26"
             ],
             [
              1,
              "#f0f921"
             ]
            ],
            "type": "contour"
           }
          ],
          "contourcarpet": [
           {
            "colorbar": {
             "outlinewidth": 0,
             "ticks": ""
            },
            "type": "contourcarpet"
           }
          ],
          "heatmap": [
           {
            "colorbar": {
             "outlinewidth": 0,
             "ticks": ""
            },
            "colorscale": [
             [
              0,
              "#0d0887"
             ],
             [
              0.1111111111111111,
              "#46039f"
             ],
             [
              0.2222222222222222,
              "#7201a8"
             ],
             [
              0.3333333333333333,
              "#9c179e"
             ],
             [
              0.4444444444444444,
              "#bd3786"
             ],
             [
              0.5555555555555556,
              "#d8576b"
             ],
             [
              0.6666666666666666,
              "#ed7953"
             ],
             [
              0.7777777777777778,
              "#fb9f3a"
             ],
             [
              0.8888888888888888,
              "#fdca26"
             ],
             [
              1,
              "#f0f921"
             ]
            ],
            "type": "heatmap"
           }
          ],
          "heatmapgl": [
           {
            "colorbar": {
             "outlinewidth": 0,
             "ticks": ""
            },
            "colorscale": [
             [
              0,
              "#0d0887"
             ],
             [
              0.1111111111111111,
              "#46039f"
             ],
             [
              0.2222222222222222,
              "#7201a8"
             ],
             [
              0.3333333333333333,
              "#9c179e"
             ],
             [
              0.4444444444444444,
              "#bd3786"
             ],
             [
              0.5555555555555556,
              "#d8576b"
             ],
             [
              0.6666666666666666,
              "#ed7953"
             ],
             [
              0.7777777777777778,
              "#fb9f3a"
             ],
             [
              0.8888888888888888,
              "#fdca26"
             ],
             [
              1,
              "#f0f921"
             ]
            ],
            "type": "heatmapgl"
           }
          ],
          "histogram": [
           {
            "marker": {
             "pattern": {
              "fillmode": "overlay",
              "size": 10,
              "solidity": 0.2
             }
            },
            "type": "histogram"
           }
          ],
          "histogram2d": [
           {
            "colorbar": {
             "outlinewidth": 0,
             "ticks": ""
            },
            "colorscale": [
             [
              0,
              "#0d0887"
             ],
             [
              0.1111111111111111,
              "#46039f"
             ],
             [
              0.2222222222222222,
              "#7201a8"
             ],
             [
              0.3333333333333333,
              "#9c179e"
             ],
             [
              0.4444444444444444,
              "#bd3786"
             ],
             [
              0.5555555555555556,
              "#d8576b"
             ],
             [
              0.6666666666666666,
              "#ed7953"
             ],
             [
              0.7777777777777778,
              "#fb9f3a"
             ],
             [
              0.8888888888888888,
              "#fdca26"
             ],
             [
              1,
              "#f0f921"
             ]
            ],
            "type": "histogram2d"
           }
          ],
          "histogram2dcontour": [
           {
            "colorbar": {
             "outlinewidth": 0,
             "ticks": ""
            },
            "colorscale": [
             [
              0,
              "#0d0887"
             ],
             [
              0.1111111111111111,
              "#46039f"
             ],
             [
              0.2222222222222222,
              "#7201a8"
             ],
             [
              0.3333333333333333,
              "#9c179e"
             ],
             [
              0.4444444444444444,
              "#bd3786"
             ],
             [
              0.5555555555555556,
              "#d8576b"
             ],
             [
              0.6666666666666666,
              "#ed7953"
             ],
             [
              0.7777777777777778,
              "#fb9f3a"
             ],
             [
              0.8888888888888888,
              "#fdca26"
             ],
             [
              1,
              "#f0f921"
             ]
            ],
            "type": "histogram2dcontour"
           }
          ],
          "mesh3d": [
           {
            "colorbar": {
             "outlinewidth": 0,
             "ticks": ""
            },
            "type": "mesh3d"
           }
          ],
          "parcoords": [
           {
            "line": {
             "colorbar": {
              "outlinewidth": 0,
              "ticks": ""
             }
            },
            "type": "parcoords"
           }
          ],
          "pie": [
           {
            "automargin": true,
            "type": "pie"
           }
          ],
          "scatter": [
           {
            "fillpattern": {
             "fillmode": "overlay",
             "size": 10,
             "solidity": 0.2
            },
            "type": "scatter"
           }
          ],
          "scatter3d": [
           {
            "line": {
             "colorbar": {
              "outlinewidth": 0,
              "ticks": ""
             }
            },
            "marker": {
             "colorbar": {
              "outlinewidth": 0,
              "ticks": ""
             }
            },
            "type": "scatter3d"
           }
          ],
          "scattercarpet": [
           {
            "marker": {
             "colorbar": {
              "outlinewidth": 0,
              "ticks": ""
             }
            },
            "type": "scattercarpet"
           }
          ],
          "scattergeo": [
           {
            "marker": {
             "colorbar": {
              "outlinewidth": 0,
              "ticks": ""
             }
            },
            "type": "scattergeo"
           }
          ],
          "scattergl": [
           {
            "marker": {
             "colorbar": {
              "outlinewidth": 0,
              "ticks": ""
             }
            },
            "type": "scattergl"
           }
          ],
          "scattermapbox": [
           {
            "marker": {
             "colorbar": {
              "outlinewidth": 0,
              "ticks": ""
             }
            },
            "type": "scattermapbox"
           }
          ],
          "scatterpolar": [
           {
            "marker": {
             "colorbar": {
              "outlinewidth": 0,
              "ticks": ""
             }
            },
            "type": "scatterpolar"
           }
          ],
          "scatterpolargl": [
           {
            "marker": {
             "colorbar": {
              "outlinewidth": 0,
              "ticks": ""
             }
            },
            "type": "scatterpolargl"
           }
          ],
          "scatterternary": [
           {
            "marker": {
             "colorbar": {
              "outlinewidth": 0,
              "ticks": ""
             }
            },
            "type": "scatterternary"
           }
          ],
          "surface": [
           {
            "colorbar": {
             "outlinewidth": 0,
             "ticks": ""
            },
            "colorscale": [
             [
              0,
              "#0d0887"
             ],
             [
              0.1111111111111111,
              "#46039f"
             ],
             [
              0.2222222222222222,
              "#7201a8"
             ],
             [
              0.3333333333333333,
              "#9c179e"
             ],
             [
              0.4444444444444444,
              "#bd3786"
             ],
             [
              0.5555555555555556,
              "#d8576b"
             ],
             [
              0.6666666666666666,
              "#ed7953"
             ],
             [
              0.7777777777777778,
              "#fb9f3a"
             ],
             [
              0.8888888888888888,
              "#fdca26"
             ],
             [
              1,
              "#f0f921"
             ]
            ],
            "type": "surface"
           }
          ],
          "table": [
           {
            "cells": {
             "fill": {
              "color": "#EBF0F8"
             },
             "line": {
              "color": "white"
             }
            },
            "header": {
             "fill": {
              "color": "#C8D4E3"
             },
             "line": {
              "color": "white"
             }
            },
            "type": "table"
           }
          ]
         },
         "layout": {
          "annotationdefaults": {
           "arrowcolor": "#2a3f5f",
           "arrowhead": 0,
           "arrowwidth": 1
          },
          "autotypenumbers": "strict",
          "coloraxis": {
           "colorbar": {
            "outlinewidth": 0,
            "ticks": ""
           }
          },
          "colorscale": {
           "diverging": [
            [
             0,
             "#8e0152"
            ],
            [
             0.1,
             "#c51b7d"
            ],
            [
             0.2,
             "#de77ae"
            ],
            [
             0.3,
             "#f1b6da"
            ],
            [
             0.4,
             "#fde0ef"
            ],
            [
             0.5,
             "#f7f7f7"
            ],
            [
             0.6,
             "#e6f5d0"
            ],
            [
             0.7,
             "#b8e186"
            ],
            [
             0.8,
             "#7fbc41"
            ],
            [
             0.9,
             "#4d9221"
            ],
            [
             1,
             "#276419"
            ]
           ],
           "sequential": [
            [
             0,
             "#0d0887"
            ],
            [
             0.1111111111111111,
             "#46039f"
            ],
            [
             0.2222222222222222,
             "#7201a8"
            ],
            [
             0.3333333333333333,
             "#9c179e"
            ],
            [
             0.4444444444444444,
             "#bd3786"
            ],
            [
             0.5555555555555556,
             "#d8576b"
            ],
            [
             0.6666666666666666,
             "#ed7953"
            ],
            [
             0.7777777777777778,
             "#fb9f3a"
            ],
            [
             0.8888888888888888,
             "#fdca26"
            ],
            [
             1,
             "#f0f921"
            ]
           ],
           "sequentialminus": [
            [
             0,
             "#0d0887"
            ],
            [
             0.1111111111111111,
             "#46039f"
            ],
            [
             0.2222222222222222,
             "#7201a8"
            ],
            [
             0.3333333333333333,
             "#9c179e"
            ],
            [
             0.4444444444444444,
             "#bd3786"
            ],
            [
             0.5555555555555556,
             "#d8576b"
            ],
            [
             0.6666666666666666,
             "#ed7953"
            ],
            [
             0.7777777777777778,
             "#fb9f3a"
            ],
            [
             0.8888888888888888,
             "#fdca26"
            ],
            [
             1,
             "#f0f921"
            ]
           ]
          },
          "colorway": [
           "#636efa",
           "#EF553B",
           "#00cc96",
           "#ab63fa",
           "#FFA15A",
           "#19d3f3",
           "#FF6692",
           "#B6E880",
           "#FF97FF",
           "#FECB52"
          ],
          "font": {
           "color": "#2a3f5f"
          },
          "geo": {
           "bgcolor": "white",
           "lakecolor": "white",
           "landcolor": "#E5ECF6",
           "showlakes": true,
           "showland": true,
           "subunitcolor": "white"
          },
          "hoverlabel": {
           "align": "left"
          },
          "hovermode": "closest",
          "mapbox": {
           "style": "light"
          },
          "paper_bgcolor": "white",
          "plot_bgcolor": "#E5ECF6",
          "polar": {
           "angularaxis": {
            "gridcolor": "white",
            "linecolor": "white",
            "ticks": ""
           },
           "bgcolor": "#E5ECF6",
           "radialaxis": {
            "gridcolor": "white",
            "linecolor": "white",
            "ticks": ""
           }
          },
          "scene": {
           "xaxis": {
            "backgroundcolor": "#E5ECF6",
            "gridcolor": "white",
            "gridwidth": 2,
            "linecolor": "white",
            "showbackground": true,
            "ticks": "",
            "zerolinecolor": "white"
           },
           "yaxis": {
            "backgroundcolor": "#E5ECF6",
            "gridcolor": "white",
            "gridwidth": 2,
            "linecolor": "white",
            "showbackground": true,
            "ticks": "",
            "zerolinecolor": "white"
           },
           "zaxis": {
            "backgroundcolor": "#E5ECF6",
            "gridcolor": "white",
            "gridwidth": 2,
            "linecolor": "white",
            "showbackground": true,
            "ticks": "",
            "zerolinecolor": "white"
           }
          },
          "shapedefaults": {
           "line": {
            "color": "#2a3f5f"
           }
          },
          "ternary": {
           "aaxis": {
            "gridcolor": "white",
            "linecolor": "white",
            "ticks": ""
           },
           "baxis": {
            "gridcolor": "white",
            "linecolor": "white",
            "ticks": ""
           },
           "bgcolor": "#E5ECF6",
           "caxis": {
            "gridcolor": "white",
            "linecolor": "white",
            "ticks": ""
           }
          },
          "title": {
           "x": 0.05
          },
          "xaxis": {
           "automargin": true,
           "gridcolor": "white",
           "linecolor": "white",
           "ticks": "",
           "title": {
            "standoff": 15
           },
           "zerolinecolor": "white",
           "zerolinewidth": 2
          },
          "yaxis": {
           "automargin": true,
           "gridcolor": "white",
           "linecolor": "white",
           "ticks": "",
           "title": {
            "standoff": 15
           },
           "zerolinecolor": "white",
           "zerolinewidth": 2
          }
         }
        },
        "title": {
         "text": "Proportion of Family Owned Businesses by State"
        }
       }
      }
     },
     "metadata": {},
     "output_type": "display_data"
    }
   ],
   "source": [
    "# Choropleth second try\n",
    "\n",
    "fig = go.Figure(data=go.Choropleth(\n",
    "    locations=famown_state['NAME'], # Spatial coordinates\n",
    "    z = famown_state['FIRMPDEMP_PCT'].astype(float), # Data to be color-coded\n",
    "    locationmode = 'USA-states', # set of locations match entries in `locations`\n",
    "    colorscale = 'Greens',\n",
    "    colorbar_title = \"Percent of Family Owned Businesses\",\n",
    "))\n",
    "\n",
    "fig.update_layout(\n",
    "    title_text = 'Proportion of Family Owned Businesses by State',\n",
    "    geo_scope='usa', # limite map scope to USA\n",
    ")\n",
    "\n"
   ]
  },
  {
   "attachments": {},
   "cell_type": "markdown",
   "metadata": {},
   "source": [
    "#### ------------------- family ownership by industry --------------------------------"
   ]
  },
  {
   "cell_type": "code",
   "execution_count": 514,
   "metadata": {},
   "outputs": [
    {
     "data": {
      "application/vnd.plotly.v1+json": {
       "config": {
        "plotlyServerURL": "https://plot.ly"
       },
       "data": [
        {
         "alignmentgroup": "True",
         "hovertemplate": "FIRMPDEMP_PCT=%{x}<br>NAICS2017_LABEL=%{y}<extra></extra>",
         "legendgroup": "",
         "marker": {
          "color": "#636efa",
          "pattern": {
           "shape": ""
          }
         },
         "name": "",
         "offsetgroup": "",
         "orientation": "h",
         "showlegend": false,
         "textposition": "auto",
         "type": "bar",
         "x": [
          15.7,
          19.7,
          22.7,
          27.2,
          27.8,
          29.2,
          29.3,
          31,
          33.4,
          34.2,
          34.8,
          36,
          38,
          38.1,
          39.6,
          41.4,
          42.5,
          46.7,
          49.5,
          58
         ],
         "xaxis": "x",
         "y": [
          "Health care and social assistance",
          "Professional, scientific, and technical services",
          "Finance and insurance",
          "Information",
          "Arts, entertainment, and recreation",
          "Administrative and support and waste management and remediation services",
          "Educational services",
          "Other services (except public administration)",
          "Construction",
          "Transportation and warehousing",
          "Real estate and rental and leasing",
          "Wholesale trade",
          "Accommodation and food services",
          "Retail trade",
          "Manufacturing",
          "Agriculture, forestry, fishing and hunting",
          "Mining, quarrying, and oil and gas extraction",
          "Utilities",
          "Management of companies and enterprises",
          "Industries not classified"
         ],
         "yaxis": "y"
        }
       ],
       "layout": {
        "barmode": "relative",
        "font": {
         "size": 10
        },
        "legend": {
         "tracegroupgap": 0
        },
        "margin": {
         "t": 60
        },
        "template": {
         "data": {
          "bar": [
           {
            "error_x": {
             "color": "#2a3f5f"
            },
            "error_y": {
             "color": "#2a3f5f"
            },
            "marker": {
             "line": {
              "color": "#E5ECF6",
              "width": 0.5
             },
             "pattern": {
              "fillmode": "overlay",
              "size": 10,
              "solidity": 0.2
             }
            },
            "type": "bar"
           }
          ],
          "barpolar": [
           {
            "marker": {
             "line": {
              "color": "#E5ECF6",
              "width": 0.5
             },
             "pattern": {
              "fillmode": "overlay",
              "size": 10,
              "solidity": 0.2
             }
            },
            "type": "barpolar"
           }
          ],
          "carpet": [
           {
            "aaxis": {
             "endlinecolor": "#2a3f5f",
             "gridcolor": "white",
             "linecolor": "white",
             "minorgridcolor": "white",
             "startlinecolor": "#2a3f5f"
            },
            "baxis": {
             "endlinecolor": "#2a3f5f",
             "gridcolor": "white",
             "linecolor": "white",
             "minorgridcolor": "white",
             "startlinecolor": "#2a3f5f"
            },
            "type": "carpet"
           }
          ],
          "choropleth": [
           {
            "colorbar": {
             "outlinewidth": 0,
             "ticks": ""
            },
            "type": "choropleth"
           }
          ],
          "contour": [
           {
            "colorbar": {
             "outlinewidth": 0,
             "ticks": ""
            },
            "colorscale": [
             [
              0,
              "#0d0887"
             ],
             [
              0.1111111111111111,
              "#46039f"
             ],
             [
              0.2222222222222222,
              "#7201a8"
             ],
             [
              0.3333333333333333,
              "#9c179e"
             ],
             [
              0.4444444444444444,
              "#bd3786"
             ],
             [
              0.5555555555555556,
              "#d8576b"
             ],
             [
              0.6666666666666666,
              "#ed7953"
             ],
             [
              0.7777777777777778,
              "#fb9f3a"
             ],
             [
              0.8888888888888888,
              "#fdca26"
             ],
             [
              1,
              "#f0f921"
             ]
            ],
            "type": "contour"
           }
          ],
          "contourcarpet": [
           {
            "colorbar": {
             "outlinewidth": 0,
             "ticks": ""
            },
            "type": "contourcarpet"
           }
          ],
          "heatmap": [
           {
            "colorbar": {
             "outlinewidth": 0,
             "ticks": ""
            },
            "colorscale": [
             [
              0,
              "#0d0887"
             ],
             [
              0.1111111111111111,
              "#46039f"
             ],
             [
              0.2222222222222222,
              "#7201a8"
             ],
             [
              0.3333333333333333,
              "#9c179e"
             ],
             [
              0.4444444444444444,
              "#bd3786"
             ],
             [
              0.5555555555555556,
              "#d8576b"
             ],
             [
              0.6666666666666666,
              "#ed7953"
             ],
             [
              0.7777777777777778,
              "#fb9f3a"
             ],
             [
              0.8888888888888888,
              "#fdca26"
             ],
             [
              1,
              "#f0f921"
             ]
            ],
            "type": "heatmap"
           }
          ],
          "heatmapgl": [
           {
            "colorbar": {
             "outlinewidth": 0,
             "ticks": ""
            },
            "colorscale": [
             [
              0,
              "#0d0887"
             ],
             [
              0.1111111111111111,
              "#46039f"
             ],
             [
              0.2222222222222222,
              "#7201a8"
             ],
             [
              0.3333333333333333,
              "#9c179e"
             ],
             [
              0.4444444444444444,
              "#bd3786"
             ],
             [
              0.5555555555555556,
              "#d8576b"
             ],
             [
              0.6666666666666666,
              "#ed7953"
             ],
             [
              0.7777777777777778,
              "#fb9f3a"
             ],
             [
              0.8888888888888888,
              "#fdca26"
             ],
             [
              1,
              "#f0f921"
             ]
            ],
            "type": "heatmapgl"
           }
          ],
          "histogram": [
           {
            "marker": {
             "pattern": {
              "fillmode": "overlay",
              "size": 10,
              "solidity": 0.2
             }
            },
            "type": "histogram"
           }
          ],
          "histogram2d": [
           {
            "colorbar": {
             "outlinewidth": 0,
             "ticks": ""
            },
            "colorscale": [
             [
              0,
              "#0d0887"
             ],
             [
              0.1111111111111111,
              "#46039f"
             ],
             [
              0.2222222222222222,
              "#7201a8"
             ],
             [
              0.3333333333333333,
              "#9c179e"
             ],
             [
              0.4444444444444444,
              "#bd3786"
             ],
             [
              0.5555555555555556,
              "#d8576b"
             ],
             [
              0.6666666666666666,
              "#ed7953"
             ],
             [
              0.7777777777777778,
              "#fb9f3a"
             ],
             [
              0.8888888888888888,
              "#fdca26"
             ],
             [
              1,
              "#f0f921"
             ]
            ],
            "type": "histogram2d"
           }
          ],
          "histogram2dcontour": [
           {
            "colorbar": {
             "outlinewidth": 0,
             "ticks": ""
            },
            "colorscale": [
             [
              0,
              "#0d0887"
             ],
             [
              0.1111111111111111,
              "#46039f"
             ],
             [
              0.2222222222222222,
              "#7201a8"
             ],
             [
              0.3333333333333333,
              "#9c179e"
             ],
             [
              0.4444444444444444,
              "#bd3786"
             ],
             [
              0.5555555555555556,
              "#d8576b"
             ],
             [
              0.6666666666666666,
              "#ed7953"
             ],
             [
              0.7777777777777778,
              "#fb9f3a"
             ],
             [
              0.8888888888888888,
              "#fdca26"
             ],
             [
              1,
              "#f0f921"
             ]
            ],
            "type": "histogram2dcontour"
           }
          ],
          "mesh3d": [
           {
            "colorbar": {
             "outlinewidth": 0,
             "ticks": ""
            },
            "type": "mesh3d"
           }
          ],
          "parcoords": [
           {
            "line": {
             "colorbar": {
              "outlinewidth": 0,
              "ticks": ""
             }
            },
            "type": "parcoords"
           }
          ],
          "pie": [
           {
            "automargin": true,
            "type": "pie"
           }
          ],
          "scatter": [
           {
            "fillpattern": {
             "fillmode": "overlay",
             "size": 10,
             "solidity": 0.2
            },
            "type": "scatter"
           }
          ],
          "scatter3d": [
           {
            "line": {
             "colorbar": {
              "outlinewidth": 0,
              "ticks": ""
             }
            },
            "marker": {
             "colorbar": {
              "outlinewidth": 0,
              "ticks": ""
             }
            },
            "type": "scatter3d"
           }
          ],
          "scattercarpet": [
           {
            "marker": {
             "colorbar": {
              "outlinewidth": 0,
              "ticks": ""
             }
            },
            "type": "scattercarpet"
           }
          ],
          "scattergeo": [
           {
            "marker": {
             "colorbar": {
              "outlinewidth": 0,
              "ticks": ""
             }
            },
            "type": "scattergeo"
           }
          ],
          "scattergl": [
           {
            "marker": {
             "colorbar": {
              "outlinewidth": 0,
              "ticks": ""
             }
            },
            "type": "scattergl"
           }
          ],
          "scattermapbox": [
           {
            "marker": {
             "colorbar": {
              "outlinewidth": 0,
              "ticks": ""
             }
            },
            "type": "scattermapbox"
           }
          ],
          "scatterpolar": [
           {
            "marker": {
             "colorbar": {
              "outlinewidth": 0,
              "ticks": ""
             }
            },
            "type": "scatterpolar"
           }
          ],
          "scatterpolargl": [
           {
            "marker": {
             "colorbar": {
              "outlinewidth": 0,
              "ticks": ""
             }
            },
            "type": "scatterpolargl"
           }
          ],
          "scatterternary": [
           {
            "marker": {
             "colorbar": {
              "outlinewidth": 0,
              "ticks": ""
             }
            },
            "type": "scatterternary"
           }
          ],
          "surface": [
           {
            "colorbar": {
             "outlinewidth": 0,
             "ticks": ""
            },
            "colorscale": [
             [
              0,
              "#0d0887"
             ],
             [
              0.1111111111111111,
              "#46039f"
             ],
             [
              0.2222222222222222,
              "#7201a8"
             ],
             [
              0.3333333333333333,
              "#9c179e"
             ],
             [
              0.4444444444444444,
              "#bd3786"
             ],
             [
              0.5555555555555556,
              "#d8576b"
             ],
             [
              0.6666666666666666,
              "#ed7953"
             ],
             [
              0.7777777777777778,
              "#fb9f3a"
             ],
             [
              0.8888888888888888,
              "#fdca26"
             ],
             [
              1,
              "#f0f921"
             ]
            ],
            "type": "surface"
           }
          ],
          "table": [
           {
            "cells": {
             "fill": {
              "color": "#EBF0F8"
             },
             "line": {
              "color": "white"
             }
            },
            "header": {
             "fill": {
              "color": "#C8D4E3"
             },
             "line": {
              "color": "white"
             }
            },
            "type": "table"
           }
          ]
         },
         "layout": {
          "annotationdefaults": {
           "arrowcolor": "#2a3f5f",
           "arrowhead": 0,
           "arrowwidth": 1
          },
          "autotypenumbers": "strict",
          "coloraxis": {
           "colorbar": {
            "outlinewidth": 0,
            "ticks": ""
           }
          },
          "colorscale": {
           "diverging": [
            [
             0,
             "#8e0152"
            ],
            [
             0.1,
             "#c51b7d"
            ],
            [
             0.2,
             "#de77ae"
            ],
            [
             0.3,
             "#f1b6da"
            ],
            [
             0.4,
             "#fde0ef"
            ],
            [
             0.5,
             "#f7f7f7"
            ],
            [
             0.6,
             "#e6f5d0"
            ],
            [
             0.7,
             "#b8e186"
            ],
            [
             0.8,
             "#7fbc41"
            ],
            [
             0.9,
             "#4d9221"
            ],
            [
             1,
             "#276419"
            ]
           ],
           "sequential": [
            [
             0,
             "#0d0887"
            ],
            [
             0.1111111111111111,
             "#46039f"
            ],
            [
             0.2222222222222222,
             "#7201a8"
            ],
            [
             0.3333333333333333,
             "#9c179e"
            ],
            [
             0.4444444444444444,
             "#bd3786"
            ],
            [
             0.5555555555555556,
             "#d8576b"
            ],
            [
             0.6666666666666666,
             "#ed7953"
            ],
            [
             0.7777777777777778,
             "#fb9f3a"
            ],
            [
             0.8888888888888888,
             "#fdca26"
            ],
            [
             1,
             "#f0f921"
            ]
           ],
           "sequentialminus": [
            [
             0,
             "#0d0887"
            ],
            [
             0.1111111111111111,
             "#46039f"
            ],
            [
             0.2222222222222222,
             "#7201a8"
            ],
            [
             0.3333333333333333,
             "#9c179e"
            ],
            [
             0.4444444444444444,
             "#bd3786"
            ],
            [
             0.5555555555555556,
             "#d8576b"
            ],
            [
             0.6666666666666666,
             "#ed7953"
            ],
            [
             0.7777777777777778,
             "#fb9f3a"
            ],
            [
             0.8888888888888888,
             "#fdca26"
            ],
            [
             1,
             "#f0f921"
            ]
           ]
          },
          "colorway": [
           "#636efa",
           "#EF553B",
           "#00cc96",
           "#ab63fa",
           "#FFA15A",
           "#19d3f3",
           "#FF6692",
           "#B6E880",
           "#FF97FF",
           "#FECB52"
          ],
          "font": {
           "color": "#2a3f5f"
          },
          "geo": {
           "bgcolor": "white",
           "lakecolor": "white",
           "landcolor": "#E5ECF6",
           "showlakes": true,
           "showland": true,
           "subunitcolor": "white"
          },
          "hoverlabel": {
           "align": "left"
          },
          "hovermode": "closest",
          "mapbox": {
           "style": "light"
          },
          "paper_bgcolor": "white",
          "plot_bgcolor": "#E5ECF6",
          "polar": {
           "angularaxis": {
            "gridcolor": "white",
            "linecolor": "white",
            "ticks": ""
           },
           "bgcolor": "#E5ECF6",
           "radialaxis": {
            "gridcolor": "white",
            "linecolor": "white",
            "ticks": ""
           }
          },
          "scene": {
           "xaxis": {
            "backgroundcolor": "#E5ECF6",
            "gridcolor": "white",
            "gridwidth": 2,
            "linecolor": "white",
            "showbackground": true,
            "ticks": "",
            "zerolinecolor": "white"
           },
           "yaxis": {
            "backgroundcolor": "#E5ECF6",
            "gridcolor": "white",
            "gridwidth": 2,
            "linecolor": "white",
            "showbackground": true,
            "ticks": "",
            "zerolinecolor": "white"
           },
           "zaxis": {
            "backgroundcolor": "#E5ECF6",
            "gridcolor": "white",
            "gridwidth": 2,
            "linecolor": "white",
            "showbackground": true,
            "ticks": "",
            "zerolinecolor": "white"
           }
          },
          "shapedefaults": {
           "line": {
            "color": "#2a3f5f"
           }
          },
          "ternary": {
           "aaxis": {
            "gridcolor": "white",
            "linecolor": "white",
            "ticks": ""
           },
           "baxis": {
            "gridcolor": "white",
            "linecolor": "white",
            "ticks": ""
           },
           "bgcolor": "#E5ECF6",
           "caxis": {
            "gridcolor": "white",
            "linecolor": "white",
            "ticks": ""
           }
          },
          "title": {
           "x": 0.05
          },
          "xaxis": {
           "automargin": true,
           "gridcolor": "white",
           "linecolor": "white",
           "ticks": "",
           "title": {
            "standoff": 15
           },
           "zerolinecolor": "white",
           "zerolinewidth": 2
          },
          "yaxis": {
           "automargin": true,
           "gridcolor": "white",
           "linecolor": "white",
           "ticks": "",
           "title": {
            "standoff": 15
           },
           "zerolinecolor": "white",
           "zerolinewidth": 2
          }
         }
        },
        "title": {
         "text": "Percentage of Family Owned Businesses by Industry"
        },
        "xaxis": {
         "anchor": "y",
         "domain": [
          0,
          1
         ],
         "title": {
          "text": "Percent Family Owned"
         }
        },
        "yaxis": {
         "anchor": "x",
         "domain": [
          0,
          1
         ],
         "title": {
          "text": "Industry"
         }
        }
       }
      }
     },
     "metadata": {},
     "output_type": "display_data"
    }
   ],
   "source": [
    "\n",
    "## Create df that disregards veteran, ethnicity, race, and sex group. Focuses on industry\n",
    "famown_industry = yb_famown[(yb_famown.VET_GROUP == '001') & (yb_famown.SEX == '001') & (yb_famown.ETH_GROUP == '001') & (yb_famown.NAICS2017 != '00') & (yb_famown.RACE_GROUP == '00')]\n",
    "\n",
    "\n",
    "## Selecting columns and rows\n",
    "famown_industry = famown_industry[['NAICS2017_LABEL', 'BUSCHAR', 'BUSCHAR_LABEL', 'FIRMPDEMP', 'FIRMPDEMP_PCT', 'RCPPDEMP', 'EMP', 'EMP_PCT', 'PAYANN', 'PAYANN_PCT']]\n",
    "\n",
    "\n",
    "## Only keeping family and not family owned. Removing item not reported and total rows \n",
    "famown_industry = famown_industry[(famown_industry.BUSCHAR == 'BM')]\n",
    "\n",
    "\n",
    "## Changing datatypes\n",
    "famown_industry = famown_industry.astype({\"FIRMPDEMP\": \"int\", \"FIRMPDEMP_PCT\": \"float\", \"RCPPDEMP\": \"int64\", \"EMP\": \"int64\", \"EMP_PCT\": \"float\", \"PAYANN\": \"int64\", \"PAYANN_PCT\": \"float\"})\n",
    "\n",
    "## Sorting \n",
    "famown_industry.sort_values(by = [\"FIRMPDEMP_PCT\"], inplace = True)\n",
    "\n",
    "## Plot\n",
    "fig = px.bar(famown_industry, x=\"FIRMPDEMP_PCT\", y=\"NAICS2017_LABEL\", orientation='h')\n",
    "\n",
    "fig.update_layout(\n",
    "    title=\"Percentage of Family Owned Businesses by Industry\",\n",
    "    xaxis_title=\"Percent Family Owned\",\n",
    "    yaxis_title=\"Industry\",\n",
    "    font=dict(\n",
    "        size=10,\n",
    "    )\n",
    ")\n",
    "\n",
    "fig.show()"
   ]
  }
 ],
 "metadata": {
  "kernelspec": {
   "display_name": "base",
   "language": "python",
   "name": "python3"
  },
  "language_info": {
   "codemirror_mode": {
    "name": "ipython",
    "version": 3
   },
   "file_extension": ".py",
   "mimetype": "text/x-python",
   "name": "python",
   "nbconvert_exporter": "python",
   "pygments_lexer": "ipython3",
   "version": "3.9.13 (main, Aug 25 2022, 23:51:50) [MSC v.1916 64 bit (AMD64)]"
  },
  "orig_nbformat": 4,
  "vscode": {
   "interpreter": {
    "hash": "482e713b68cd71a8483cb2158890d5192c707d1215bafacb74ddfe1b69be5b06"
   }
  }
 },
 "nbformat": 4,
 "nbformat_minor": 2
}
