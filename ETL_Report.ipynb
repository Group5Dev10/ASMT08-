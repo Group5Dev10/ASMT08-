{
 "cells": [
  {
   "attachments": {},
   "cell_type": "markdown",
   "metadata": {},
   "source": [
    "# ETL Report"
   ]
  },
  {
   "attachments": {},
   "cell_type": "markdown",
   "metadata": {},
   "source": [
    "### Extract"
   ]
  },
  {
   "attachments": {},
   "cell_type": "markdown",
   "metadata": {},
   "source": [
    "The following datasets (with varying parameters) were extracted from the 2019 Annual Business Survey API: \n",
    "- company summary \n",
    "- characteristics of businesses\n",
    "- characteristics of business owners\n",
    "- module business characteristics (Technology)\n",
    "\n",
    "To access the Census Bureau API, a free API key is required and can be found in the API User Guide at https://www.census.gov/data/developers/guidance/api-user-guide.Help_&_Contact_Us.html\n",
    "\n",
    "\n",
    "The cells below outline the process used to consume the four datasets in the ABS API. Variations in API calls (same dataset with different parameters) are included under the most basic call for each dataset. "
   ]
  },
  {
   "cell_type": "code",
   "execution_count": 2,
   "metadata": {},
   "outputs": [],
   "source": [
    "# Import all necessary packages\n",
    "import requests\n",
    "import pandas as pd\n",
    "import json\n",
    "import numpy as np\n",
    "import matplotlib.pyplot as plt\n",
    "from matplotlib.pyplot import figure\n",
    "import seaborn as sns\n",
    "import plotly.express as px\n",
    "import plotly.graph_objects as go\n",
    "\n",
    "\n",
    "# Function that takes in json formatted data from API call and returns dataframe \n",
    "def CleanData(response):\n",
    "    data = json.loads(response.text)\n",
    "    df = pd.DataFrame.from_dict(data)\n",
    "\n",
    "    #Remove first row from df \n",
    "    newcolumn = df.iloc[0]\n",
    "    df = df.iloc[1:]\n",
    "\n",
    "    #Rename columns\n",
    "    df.rename(columns=newcolumn, inplace = True)\n",
    "\n",
    "    #Reset index \n",
    "    df.reset_index(inplace = True, drop = True)\n",
    "\n",
    "    return df\n",
    "\n",
    "\n",
    "pd.set_option('display.max_columns', None)\n"
   ]
  },
  {
   "cell_type": "code",
   "execution_count": 3,
   "metadata": {},
   "outputs": [],
   "source": [
    "# Company Summary \n",
    "\n",
    "base1 = 'https://api.census.gov/data/2018/abscs?'\n",
    "\n",
    "params1 = {\n",
    "    'get' : 'GEO_ID,NAME,NAICS2017,NAICS2017_LABEL,SEX,SEX_LABEL,ETH_GROUP,ETH_GROUP_LABEL,RACE_GROUP,RACE_GROUP_LABEL,VET_GROUP,VET_GROUP_LABEL,EMPSZFI,EMPSZFI_LABEL,YEAR,FIRMPDEMP,FIRMPDEMP_F,RCPPDEMP,RCPPDEMP_F,EMP,EMP_F,PAYANN,PAYANN_F,FIRMPDEMP_S,FIRMPDEMP_S_F,RCPPDEMP_S,RCPPDEMP_S_F,EMP_S,EMP_S_F,PAYANN_S,PAYANN_S_F',\n",
    "    'for' : 'us',\n",
    "    'key' : '10bf25bcce0f90f77afc9446298738e209ce9d58' \n",
    "}\n",
    "\n",
    "\n",
    "response1 = requests.get(base1, params = params1)\n",
    "company_summary = CleanData(response1)"
   ]
  },
  {
   "cell_type": "code",
   "execution_count": 4,
   "metadata": {},
   "outputs": [],
   "source": [
    "# Characteristics of Businesses\n",
    "\n",
    "base2 = 'https://api.census.gov/data/2018/abscb?'\n",
    "\n",
    "params2 = {\n",
    "    'get' : 'GEO_ID,NAME,NAICS2017,NAICS2017_LABEL,SEX,SEX_LABEL,ETH_GROUP,ETH_GROUP_LABEL,RACE_GROUP,RACE_GROUP_LABEL,VET_GROUP,VET_GROUP_LABEL,QDESC,QDESC_LABEL,BUSCHAR,BUSCHAR_LABEL,YEAR,FIRMPDEMP,FIRMPDEMP_F,FIRMPDEMP_PCT,FIRMPDEMP_PCT_F,RCPPDEMP,RCPPDEMP_F,RCPPDEMP_PCT,RCPPDEMP_PCT_F,EMP,EMP_F,EMP_PCT,EMP_PCT_F,PAYANN,PAYANN_F,PAYANN_PCT,PAYANN_PCT_F,FIRMPDEMP_S,FIRMPDEMP_S_F,FIRMPDEMP_PCT_S,FIRMPDEMP_PCT_S_F,RCPPDEMP_S,RCPPDEMP_S_F,RCPPDEMP_PCT_S,RCPPDEMP_PCT_S_F,EMP_S,EMP_S_F,EMP_PCT_S,EMP_PCT_S_F,PAYANN_S,PAYANN_S_F,PAYANN_PCT_S,PAYANN_PCT_S_F',\n",
    "    'for' : 'us',\n",
    "    'key' : '10bf25bcce0f90f77afc9446298738e209ce9d58' \n",
    "}\n",
    "\n",
    "\n",
    "response2 = requests.get(base2, params = params2)\n",
    "char_of_biz = CleanData(response2)\n",
    "\n",
    "\n",
    "\n",
    "\n",
    "### --------------------------------------Parameter Variations------------------------------------------------\n",
    "\n",
    "#characteristics of Business Owners (FAMILY OWNERSHIP)\n",
    "#variations include a QDESC_LABEL = FAMOWN in parameters as well as the additional variable 'YIBSZFI' which stands for years in business\n",
    "params_yb_famown = {\n",
    "    'get' : 'GEO_ID,NAME,NAICS2017,NAICS2017_LABEL,YIBSZFI,SEX,SEX_LABEL,ETH_GROUP,ETH_GROUP_LABEL,RACE_GROUP,RACE_GROUP_LABEL,VET_GROUP,VET_GROUP_LABEL,QDESC,QDESC_LABEL,BUSCHAR,BUSCHAR_LABEL,YEAR,FIRMPDEMP,FIRMPDEMP_F,FIRMPDEMP_PCT,FIRMPDEMP_PCT_F,RCPPDEMP,RCPPDEMP_F,RCPPDEMP_PCT,RCPPDEMP_PCT_F,EMP,EMP_F,EMP_PCT,EMP_PCT_F,PAYANN,PAYANN_F,PAYANN_PCT,PAYANN_PCT_F,FIRMPDEMP_S,FIRMPDEMP_S_F,FIRMPDEMP_PCT_S,FIRMPDEMP_PCT_S_F,RCPPDEMP_S,RCPPDEMP_S_F,RCPPDEMP_PCT_S,RCPPDEMP_PCT_S_F,EMP_S,EMP_S_F,EMP_PCT_S,EMP_PCT_S_F,PAYANN_S,PAYANN_S_F,PAYANN_PCT_S,PAYANN_PCT_S_F',\n",
    "    'for' : 'us',\n",
    "    'QDESC_LABEL' : 'FAMOWN',  #Tabulates by family ownership \n",
    "    'key' : '10bf25bcce0f90f77afc9446298738e209ce9d58' \n",
    "}\n",
    "\n",
    "\n",
    "#characteristics of Business Owners (FAMILY OWNERSHIP, STATE LEVEL)\n",
    "#variations include using (for = state) instead of (for = us) in parameters \n",
    "params_famown_state = {\n",
    "    'get' : 'GEO_ID,NAME,NAICS2017,NAICS2017_LABEL,SEX,SEX_LABEL,ETH_GROUP,ETH_GROUP_LABEL,RACE_GROUP,RACE_GROUP_LABEL,VET_GROUP,VET_GROUP_LABEL,QDESC,QDESC_LABEL,BUSCHAR,BUSCHAR_LABEL,YEAR,FIRMPDEMP,FIRMPDEMP_F,FIRMPDEMP_PCT,FIRMPDEMP_PCT_F,RCPPDEMP,RCPPDEMP_F,RCPPDEMP_PCT,RCPPDEMP_PCT_F,EMP,EMP_F,EMP_PCT,EMP_PCT_F,PAYANN,PAYANN_F,PAYANN_PCT,PAYANN_PCT_F,FIRMPDEMP_S,FIRMPDEMP_S_F,FIRMPDEMP_PCT_S,FIRMPDEMP_PCT_S_F,RCPPDEMP_S,RCPPDEMP_S_F,RCPPDEMP_PCT_S,RCPPDEMP_PCT_S_F,EMP_S,EMP_S_F,EMP_PCT_S,EMP_PCT_S_F,PAYANN_S,PAYANN_S_F,PAYANN_PCT_S,PAYANN_PCT_S_F',\n",
    "    'for' : 'state',\n",
    "    'QDESC_LABEL' : 'FAMOWN',\n",
    "    'key' : '10bf25bcce0f90f77afc9446298738e209ce9d58' \n",
    "}"
   ]
  },
  {
   "cell_type": "code",
   "execution_count": null,
   "metadata": {},
   "outputs": [],
   "source": [
    "# Characteristics of Business Owners\n",
    "\n",
    "base3 = 'https://api.census.gov/data/2018/abscbo?'\n",
    "\n",
    "params3 = {\n",
    "    'get' : 'GEO_ID,NAME,NAICS2017,NAICS2017_LABEL,OWNER_SEX,OWNER_SEX_LABEL,OWNER_ETH,OWNER_ETH_LABEL,OWNER_RACE,OWNER_RACE_LABEL,OWNER_VET,OWNER_VET_LABEL,QDESC,QDESC_LABEL,OWNCHAR,OWNCHAR_LABEL,YEAR,OWNPDEMP,OWNPDEMP_F,OWNPDEMP_PCT,OWNPDEMP_PCT_F,OWNPDEMP_S,OWNPDEMP_S_F,OWNPDEMP_PCT_S,OWNPDEMP_PCT_S_F',\n",
    "    'for' : 'us',\n",
    "    # 'QDESC_LABEL' : 'EDUC',\n",
    "    'key' : '10bf25bcce0f90f77afc9446298738e209ce9d58' \n",
    "}\n",
    "\n",
    "\n",
    "response3 = requests.get(base3, params = params3)\n",
    "char_of_biz_owners= CleanData(response3)\n"
   ]
  },
  {
   "cell_type": "code",
   "execution_count": null,
   "metadata": {},
   "outputs": [],
   "source": [
    "# Technology Characteristics of Business\n",
    "\n",
    "base4 = 'https://api.census.gov/data/2018/abstcb?'\n",
    "\n",
    "params4 = {\n",
    "    'get' : 'GEO_ID,NAME,NAICS2017,NAICS2017_LABEL,SEX,SEX_LABEL,ETH_GROUP,ETH_GROUP_LABEL,RACE_GROUP,RACE_GROUP_LABEL,VET_GROUP,VET_GROUP_LABEL,NSFSZFI,NSFSZFI_LABEL,FACTORS_P,FACTORS_P_LABEL,YEAR,FIRMPDEMP,FIRMPDEMP_F,FIRMPDEMP_PCT,FIRMPDEMP_PCT_F,RCPPDEMP,RCPPDEMP_F,RCPPDEMP_PCT,RCPPDEMP_PCT_F,EMP,EMP_F,EMP_PCT,EMP_PCT_F,PAYANN,PAYANN_F,PAYANN_PCT,PAYANN_PCT_F,FIRMPDEMP_S,FIRMPDEMP_S_F,FIRMPDEMP_PCT_S,FIRMPDEMP_PCT_S_F,RCPPDEMP_S,RCPPDEMP_S_F,RCPPDEMP_PCT_S,RCPPDEMP_PCT_S_F,EMP_S,EMP_S_F,EMP_PCT_S,EMP_PCT_S_F,PAYANN_S,PAYANN_S_F,PAYANN_PCT_S,PAYANN_PCT_S_F',\n",
    "    'for' : 'us',\n",
    "    'key' : '10bf25bcce0f90f77afc9446298738e209ce9d58' \n",
    "}\n",
    "\n",
    "response4 = requests.get(base4, params = params4)\n",
    "tech_char_of_biz = CleanData(response4)\n"
   ]
  },
  {
   "attachments": {},
   "cell_type": "markdown",
   "metadata": {},
   "source": [
    "### Transform"
   ]
  },
  {
   "attachments": {},
   "cell_type": "markdown",
   "metadata": {},
   "source": [
    "Each group member took different steps to transform data into visualization-ready forms. This section is divided by each group member's process. "
   ]
  },
  {
   "attachments": {},
   "cell_type": "markdown",
   "metadata": {},
   "source": [
    "Albert's Transformations"
   ]
  },
  {
   "attachments": {},
   "cell_type": "markdown",
   "metadata": {},
   "source": [
    "Meghan's Transformations:"
   ]
  },
  {
   "cell_type": "code",
   "execution_count": 6,
   "metadata": {},
   "outputs": [],
   "source": [
    "## step 1: loading data in and using clean data function to return dataframe\n",
    "\n",
    "params_yb_famown = {\n",
    "    'get' : 'GEO_ID,NAME,NAICS2017,NAICS2017_LABEL,YIBSZFI,SEX,SEX_LABEL,ETH_GROUP,ETH_GROUP_LABEL,RACE_GROUP,RACE_GROUP_LABEL,VET_GROUP,VET_GROUP_LABEL,QDESC,QDESC_LABEL,BUSCHAR,BUSCHAR_LABEL,YEAR,FIRMPDEMP,FIRMPDEMP_F,FIRMPDEMP_PCT,FIRMPDEMP_PCT_F,RCPPDEMP,RCPPDEMP_F,RCPPDEMP_PCT,RCPPDEMP_PCT_F,EMP,EMP_F,EMP_PCT,EMP_PCT_F,PAYANN,PAYANN_F,PAYANN_PCT,PAYANN_PCT_F,FIRMPDEMP_S,FIRMPDEMP_S_F,FIRMPDEMP_PCT_S,FIRMPDEMP_PCT_S_F,RCPPDEMP_S,RCPPDEMP_S_F,RCPPDEMP_PCT_S,RCPPDEMP_PCT_S_F,EMP_S,EMP_S_F,EMP_PCT_S,EMP_PCT_S_F,PAYANN_S,PAYANN_S_F,PAYANN_PCT_S,PAYANN_PCT_S_F',\n",
    "    'for' : 'us',\n",
    "    'QDESC_LABEL' : 'FAMOWN',\n",
    "    'key' : '10bf25bcce0f90f77afc9446298738e209ce9d58' \n",
    "}\n",
    "response_yb_famown = requests.get(base2, params = params_yb_famown)\n",
    "\n",
    "yb_famown = CleanData(response_yb_famown)\n",
    "\n",
    "\n",
    "## step 2: create new df that focuses on total for all sectors (NAICS2017 = 00), and disregards veteran, ethnicity, race, and sex group. \n",
    "yb = yb_famown[(yb_famown.VET_GROUP == '001') & (yb_famown.SEX == '001') & (yb_famown.ETH_GROUP == '001') & (yb_famown.NAICS2017 == '00') & (yb_famown.RACE_GROUP == '00')]\n",
    "\n",
    "\n",
    "## step 3: select columns of interest \n",
    "yb = yb[['YIBSZFI', 'BUSCHAR', 'BUSCHAR_LABEL', 'FIRMPDEMP', 'FIRMPDEMP_PCT', 'RCPPDEMP', 'EMP', 'EMP_PCT', 'PAYANN', 'PAYANN_PCT']]\n",
    "\n",
    "## step 4: removing unwanted rows\n",
    "# Removing rows where YIBSZFI is aggregated ('totals')\n",
    "yb = yb[yb.YIBSZFI != '001']\n",
    "# Only keeping family and not family owned. Removing item not reported and total rows \n",
    "yb = yb[(yb.BUSCHAR == 'BM') | (yb.BUSCHAR == 'BN')]\n",
    "\n",
    "## step 5: changing datatypes\n",
    "yb = yb.astype({\"FIRMPDEMP\": \"int\", \"FIRMPDEMP_PCT\": \"float\", \"RCPPDEMP\": \"int64\", \"EMP\": \"int64\", \"EMP_PCT\": \"float\", \"PAYANN\": \"int64\", \"PAYANN_PCT\": \"float\"})\n",
    "\n",
    "## step 6: sort df by years in business\n",
    "yb.sort_values(by = ['YIBSZFI'], inplace= True)\n",
    "yb.reset_index(inplace = True, drop = True)\n",
    "\n",
    "## step 7: replace YIBSZFI codes with descriptive values\n",
    "yb.YIBSZFI.replace('311', 'less than 2', inplace=True)\n",
    "yb.YIBSZFI.replace('318', '2 to 3', inplace=True)\n",
    "yb.YIBSZFI.replace('319', '4 to 5', inplace=True)\n",
    "yb.YIBSZFI.replace('321', '6 to 10', inplace=True)\n",
    "yb.YIBSZFI.replace('322', '11 to 15', inplace=True)\n",
    "yb.YIBSZFI.replace('323', '16 +', inplace=True)\n",
    "\n",
    "## dataframe result: \n",
    "yb\n",
    "\n",
    "\n",
    "\n",
    "# -----------------------------Further transformations for visualizations----------------------------------\n",
    "\n",
    "## Clustered Bar Chart\n",
    "\n",
    "# step 1: group by variables of interest, aggregate by firmpdemp (count of firms)\n",
    "yb_famown_count = yb.groupby(['YIBSZFI', 'BUSCHAR_LABEL'])['FIRMPDEMP'].sum().unstack().fillna(0)\n",
    "\n",
    "# step 2: sort by years in business labels \n",
    "sort_dict = {'less than 2':0,'2 to 3':1,'4 to 5':2, '6 to 10':3, '11 to 15':4, '16 +':5}\n",
    "yb_famown_count['new'] = yb_famown_count.index\n",
    "yb_famown_count['sortmap'] = yb_famown_count['new'].map(lambda x: sort_dict[x])\n",
    "yb_famown_count = yb_famown_count.sort_values('sortmap')\n",
    "\n",
    "# step 3: remove fields added for sorting\n",
    "yb_famown_count_VIS = yb_famown_count[[\"Family-owned\", \"Not family-owned\"]]\n",
    "\n",
    "\n",
    "\n",
    "## 100% Stacked Bar Chart\n",
    "\n",
    "# step 1: group by variables of interest, aggregate by firmpdemp_pct (percent of firms )\n",
    "yb_famown_pct = yb.groupby(['YIBSZFI', 'BUSCHAR_LABEL'])['FIRMPDEMP_PCT'].sum().unstack().fillna(0)\n",
    "\n",
    "# step 2 and 3 same as above \n",
    "\n",
    "\n",
    "## Plotly Map \n",
    "\n",
    "# step 1: replace state names with abbreviated state names (function can be found in meghan_notebook)\n"
   ]
  },
  {
   "attachments": {},
   "cell_type": "markdown",
   "metadata": {},
   "source": [
    "Sarvani's Transformations"
   ]
  },
  {
   "attachments": {},
   "cell_type": "markdown",
   "metadata": {},
   "source": [
    "Stephen's Transformations"
   ]
  },
  {
   "attachments": {},
   "cell_type": "markdown",
   "metadata": {},
   "source": [
    "### Load"
   ]
  },
  {
   "cell_type": "markdown",
   "metadata": {},
   "source": []
  }
 ],
 "metadata": {
  "kernelspec": {
   "display_name": "base",
   "language": "python",
   "name": "python3"
  },
  "language_info": {
   "codemirror_mode": {
    "name": "ipython",
    "version": 3
   },
   "file_extension": ".py",
   "mimetype": "text/x-python",
   "name": "python",
   "nbconvert_exporter": "python",
   "pygments_lexer": "ipython3",
   "version": "3.9.13"
  },
  "orig_nbformat": 4,
  "vscode": {
   "interpreter": {
    "hash": "482e713b68cd71a8483cb2158890d5192c707d1215bafacb74ddfe1b69be5b06"
   }
  }
 },
 "nbformat": 4,
 "nbformat_minor": 2
}
